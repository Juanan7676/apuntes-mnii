{
 "metadata": {
  "name": ""
 },
 "nbformat": 3,
 "nbformat_minor": 0,
 "worksheets": [
  {
   "cells": [
    {
     "cell_type": "heading",
     "level": 1,
     "metadata": {},
     "source": [
      "Tema 1. Problema 1"
     ]
    },
    {
     "cell_type": "markdown",
     "metadata": {},
     "source": [
      "Demostrar que la funci\u00f3n $f(x)=x^2e^{x}-1$ tiene un \u00fanico cero. Utilizar el m\u00e9todo de bisecci\u00f3n para aproximarlo con un  error menor que $\\varepsilon=10^{-7}$. Comparar el resultado con la soluci\u00f3n aproximada que proporciona la funci\u00f3n ``fsolve`` (contenida en el paquete ``optimize`` de *Scipy*)."
     ]
    },
    {
     "cell_type": "code",
     "collapsed": false,
     "input": [
      "def f(x): return x**2 *e**x -1\n",
      "a=0\n",
      "b=1\n",
      "print \"f(a)=\", f(a), \"f(b)=\", f(b)\n",
      "assert(f(a)*f(b)<0)"
     ],
     "language": "python",
     "metadata": {},
     "outputs": [
      {
       "output_type": "stream",
       "stream": "stdout",
       "text": [
        "f(a)= -1.0 f(b)= 1.71828182846\n"
       ]
      }
     ],
     "prompt_number": 1
    },
    {
     "cell_type": "code",
     "collapsed": false,
     "input": [
      "# M\u00e9todo de bisecci\u00f3n\n",
      "def biseccion(f, a, b, tol=1.e-6, max_iters=100):\n",
      "    iter = 0\n",
      "    while b-a >= tol and iter < max_iters:\n",
      "        c = (a+b )/2.0\n",
      "        if f(c)==0: return c\n",
      "        if f(a)*f(c) < 0: \n",
      "            b=c\n",
      "        else: \n",
      "            a =c\n",
      "        iter = iter + 1\n",
      "    return c"
     ],
     "language": "python",
     "metadata": {},
     "outputs": [],
     "prompt_number": 2
    },
    {
     "cell_type": "code",
     "collapsed": false,
     "input": [
      "f(1)\n",
      "biseccion(f, a, b, 10**(-7), 100)"
     ],
     "language": "python",
     "metadata": {},
     "outputs": [
      {
       "output_type": "pyout",
       "prompt_number": 3,
       "text": [
        "0.7034674286842346"
       ]
      }
     ],
     "prompt_number": 3
    },
    {
     "cell_type": "code",
     "collapsed": false,
     "input": [
      "# Comparamos con la funci\u00f3n fsolve de Python (que est\u00e1 en el paquete fsolve). \n",
      "# Para m\u00e1s informaci\u00f3n, escribir \"help(fsolve)\" o ver la ayuda de Scipy\n",
      "from scipy.optimize import fsolve\n",
      "fsolve(f, 1.0)"
     ],
     "language": "python",
     "metadata": {},
     "outputs": [
      {
       "output_type": "pyout",
       "prompt_number": 5,
       "text": [
        "array([ 0.70346742])"
       ]
      }
     ],
     "prompt_number": 5
    },
    {
     "cell_type": "code",
     "collapsed": false,
     "input": [],
     "language": "python",
     "metadata": {},
     "outputs": []
    }
   ],
   "metadata": {}
  }
 ]
}