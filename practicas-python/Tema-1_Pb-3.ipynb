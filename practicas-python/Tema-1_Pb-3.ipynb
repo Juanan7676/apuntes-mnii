{
 "metadata": {
  "name": ""
 },
 "nbformat": 3,
 "nbformat_minor": 0,
 "worksheets": [
  {
   "cells": [
    {
     "cell_type": "heading",
     "level": 1,
     "metadata": {},
     "source": [
      "Tema 1. Problema 3"
     ]
    },
    {
     "cell_type": "markdown",
     "metadata": {},
     "source": [
      "C\u00e1lculo de cifras decimales de $\\pi$ mediante la F\u00f3rmula de Vi\u00e8te (producto infinito publicado en 1593 por Fran\u00e7ois Vi\u00e8te):\n",
      "\\begin{equation*}\n",
      "    \\frac{2}{\\pi}  = \\prod_{k\\to\\infty} \\frac{a_k}2, \\qquad\\text{donde }\\quad\n",
      "        a_1 = \\sqrt{2}, \\quad a_{k+1} = \\sqrt{2+a_k}.\n",
      "\\end{equation*}\n",
      "\n",
      "Sea $x_k$ la aproximaci\u00f3n de $\\pi$ con $k$ interaciones de la f\u00f3rmula anterior. Estudiar la evoluci\u00f3n, cuando  $k$ crece, de:\n",
      "1. Los errores absolutos, $e_k=| x_k-\\pi|$.\n",
      "2. Los logaritmos de estos errores, $|\\log(e_k)|$.\n",
      "3. Los cocientes $\\frac{|\\log(e_{k})|}{|\\log(e_{k-1})|}$. Relacionar estos cocientes con el orden de convergencia de la sucesi\u00f3n $x_k$."
     ]
    },
    {
     "cell_type": "code",
     "collapsed": false,
     "input": [
      "def aprox_viete(n):\n",
      "    a = [sqrt(2)]\n",
      "    for k in range(n):\n",
      "        a.append(sqrt(2+a[k]))\n",
      "    p = product( array(a)/2.0 )\n",
      "    return (2.0/p)\n",
      "\n",
      "lista_viete = []\n",
      "n = 15\n",
      "for k in range(n):\n",
      "    lista_viete.append( aprox_viete(k) )\n",
      "\n",
      "# Lo definimos de otra forma: { aprox_viete(k) / k\\in {0,...,n-1} }\n",
      "lista_viete = [ aprox_viete(k) for k in range(n) ]\n"
     ],
     "language": "python",
     "metadata": {},
     "outputs": [
      {
       "output_type": "stream",
       "stream": "stdout",
       "text": [
        "[  3.13165529e-01   8.01251947e-02   2.01475013e-02   5.04416304e-03\n",
        "   1.26149664e-03   3.15402657e-04   7.88524455e-05   1.97132227e-05\n",
        "   4.92831263e-06   1.23207859e-06   3.08019676e-07   7.70049211e-08\n",
        "   1.92512304e-08   4.81280793e-09   1.20320243e-09]\n"
       ]
      }
     ],
     "prompt_number": 1
    },
    {
     "cell_type": "markdown",
     "metadata": {},
     "source": [
      "### Errores absolutos"
     ]
    },
    {
     "cell_type": "code",
     "collapsed": false,
     "input": [
      "errores_abs = abs( array(lista_viete) - pi )\n",
      "print errores_abs"
     ],
     "language": "python",
     "metadata": {},
     "outputs": []
    },
    {
     "cell_type": "code",
     "collapsed": false,
     "input": [
      "x = range(n)\n",
      "y = errores_abs\n",
      "bar(x,y,color=\"green\")\n",
      "grid()\n",
      "title(\"Errores absolutos\")"
     ],
     "language": "python",
     "metadata": {},
     "outputs": [
      {
       "metadata": {},
       "output_type": "pyout",
       "prompt_number": 2,
       "text": [
        "<matplotlib.text.Text at 0x7f81d2965b90>"
       ]
      },
      {
       "metadata": {},
       "output_type": "display_data",
       "png": "[encoded data removed]",
       "text": [
        "<matplotlib.figure.Figure at 0x7f81d31f0f90>"
       ]
      }
     ],
     "prompt_number": 2
    },
    {
     "cell_type": "heading",
     "level": 3,
     "metadata": {},
     "source": [
      "An\u00e1lisis del lograritmo de los errores"
     ]
    },
    {
     "cell_type": "code",
     "collapsed": false,
     "input": [
      "# Los errores en la gr\u00e1fica anterior parecen decrecer exponencialmente. \n",
      "# En efecto, si tomamos logaritmo decrecen de forma lineal:\n",
      "errores_log = abs(log(errores_abs))\n",
      "bar(range(n), errores_log)"
     ],
     "language": "python",
     "metadata": {},
     "outputs": [
      {
       "metadata": {},
       "output_type": "pyout",
       "prompt_number": 3,
       "text": [
        "<Container object of 15 artists>"
       ]
      },
      {
       "metadata": {},
       "output_type": "display_data",
       "png": "[encoded data removed]",
       "text": [
        "<matplotlib.figure.Figure at 0x7f81d31f0b10>"
       ]
      }
     ],
     "prompt_number": 3
    },
    {
     "cell_type": "code",
     "collapsed": false,
     "input": [
      "import pandas\n",
      "datos = array([errores_abs, errores_log]) # Array 2 x n\n",
      "datos = datos.transpose() # Array n x 2 (2 columnas de datos)\n",
      "df = pandas.DataFrame(datos, columns=[\"r$e_k$\", \"r$\\log e_k$\"])\n",
      "df"
     ],
     "language": "python",
     "metadata": {},
     "outputs": [
      {
       "html": [
        "<div style=\"max-height:1000px;max-width:1500px;overflow:auto;\">\n",
        "<table border=\"1\" class=\"dataframe\">\n",
        "  <thead>\n",
        "    <tr style=\"text-align: right;\">\n",
        "      <th></th>\n",
        "      <th>$e_k$</th>\n",
        "      <th>$\\log e_k$</th>\n",
        "    </tr>\n",
        "  </thead>\n",
        "  <tbody>\n",
        "    <tr>\n",
        "      <th>0 </th>\n",
        "      <td> 3.131655e-01</td>\n",
        "      <td>  1.161023</td>\n",
        "    </tr>\n",
        "    <tr>\n",
        "      <th>1 </th>\n",
        "      <td> 8.012519e-02</td>\n",
        "      <td>  2.524165</td>\n",
        "    </tr>\n",
        "    <tr>\n",
        "      <th>2 </th>\n",
        "      <td> 2.014750e-02</td>\n",
        "      <td>  3.904675</td>\n",
        "    </tr>\n",
        "    <tr>\n",
        "      <th>3 </th>\n",
        "      <td> 5.044163e-03</td>\n",
        "      <td>  5.289524</td>\n",
        "    </tr>\n",
        "    <tr>\n",
        "      <th>4 </th>\n",
        "      <td> 1.261497e-03</td>\n",
        "      <td>  6.675456</td>\n",
        "    </tr>\n",
        "    <tr>\n",
        "      <th>5 </th>\n",
        "      <td> 3.154027e-04</td>\n",
        "      <td>  8.061660</td>\n",
        "    </tr>\n",
        "    <tr>\n",
        "      <th>6 </th>\n",
        "      <td> 7.885245e-05</td>\n",
        "      <td>  9.447932</td>\n",
        "    </tr>\n",
        "    <tr>\n",
        "      <th>7 </th>\n",
        "      <td> 1.971322e-05</td>\n",
        "      <td> 10.834221</td>\n",
        "    </tr>\n",
        "    <tr>\n",
        "      <th>8 </th>\n",
        "      <td> 4.928313e-06</td>\n",
        "      <td> 12.220514</td>\n",
        "    </tr>\n",
        "    <tr>\n",
        "      <th>9 </th>\n",
        "      <td> 1.232079e-06</td>\n",
        "      <td> 13.606808</td>\n",
        "    </tr>\n",
        "    <tr>\n",
        "      <th>10</th>\n",
        "      <td> 3.080197e-07</td>\n",
        "      <td> 14.993102</td>\n",
        "    </tr>\n",
        "    <tr>\n",
        "      <th>11</th>\n",
        "      <td> 7.700492e-08</td>\n",
        "      <td> 16.379397</td>\n",
        "    </tr>\n",
        "    <tr>\n",
        "      <th>12</th>\n",
        "      <td> 1.925123e-08</td>\n",
        "      <td> 17.765691</td>\n",
        "    </tr>\n",
        "    <tr>\n",
        "      <th>13</th>\n",
        "      <td> 4.812808e-09</td>\n",
        "      <td> 19.151985</td>\n",
        "    </tr>\n",
        "    <tr>\n",
        "      <th>14</th>\n",
        "      <td> 1.203202e-09</td>\n",
        "      <td> 20.538279</td>\n",
        "    </tr>\n",
        "  </tbody>\n",
        "</table>\n",
        "<p>15 rows \u00d7 2 columns</p>\n",
        "</div>"
       ],
       "metadata": {},
       "output_type": "pyout",
       "prompt_number": 4,
       "text": [
        "           $e_k$  $\\log e_k$\n",
        "0   3.131655e-01    1.161023\n",
        "1   8.012519e-02    2.524165\n",
        "2   2.014750e-02    3.904675\n",
        "3   5.044163e-03    5.289524\n",
        "4   1.261497e-03    6.675456\n",
        "5   3.154027e-04    8.061660\n",
        "6   7.885245e-05    9.447932\n",
        "7   1.971322e-05   10.834221\n",
        "8   4.928313e-06   12.220514\n",
        "9   1.232079e-06   13.606808\n",
        "10  3.080197e-07   14.993102\n",
        "11  7.700492e-08   16.379397\n",
        "12  1.925123e-08   17.765691\n",
        "13  4.812808e-09   19.151985\n",
        "14  1.203202e-09   20.538279\n",
        "\n",
        "[15 rows x 2 columns]"
       ]
      }
     ],
     "prompt_number": 4
    },
    {
     "cell_type": "markdown",
     "metadata": {},
     "source": [
      "### An\u00e1lisis del cociente de los logaritmos de errores"
     ]
    },
    {
     "cell_type": "code",
     "collapsed": false,
     "input": [
      "errores_cociente = [None]\n",
      "for i in range(1,n): # i=1,2,...,n-1\n",
      "    errores_cociente.append( errores_log[i]/errores_log[i-1] )\n",
      "datos = array([errores_abs, errores_log, errores_cociente]) # Array 3 x n\n",
      "datos = datos.transpose() # Array con 3 columnas de datos\n",
      "df = pandas.DataFrame(datos, columns=[\"$e_k$\", \"$\\log e_k$\", r\"$\\frac{\\log e_{k}}{\\log e_{k-1}}$\"])\n",
      "df"
     ],
     "language": "python",
     "metadata": {},
     "outputs": [
      {
       "html": [
        "<div style=\"max-height:1000px;max-width:1500px;overflow:auto;\">\n",
        "<table border=\"1\" class=\"dataframe\">\n",
        "  <thead>\n",
        "    <tr style=\"text-align: right;\">\n",
        "      <th></th>\n",
        "      <th>$e_k$</th>\n",
        "      <th>$\\log e_k$</th>\n",
        "      <th>$\\frac{\\log e_{k}}{\\log e_{k-1}}$</th>\n",
        "    </tr>\n",
        "  </thead>\n",
        "  <tbody>\n",
        "    <tr>\n",
        "      <th>0 </th>\n",
        "      <td>    0.3131655</td>\n",
        "      <td> 1.161023</td>\n",
        "      <td>     None</td>\n",
        "    </tr>\n",
        "    <tr>\n",
        "      <th>1 </th>\n",
        "      <td>   0.08012519</td>\n",
        "      <td> 2.524165</td>\n",
        "      <td> 2.174086</td>\n",
        "    </tr>\n",
        "    <tr>\n",
        "      <th>2 </th>\n",
        "      <td>    0.0201475</td>\n",
        "      <td> 3.904675</td>\n",
        "      <td> 1.546918</td>\n",
        "    </tr>\n",
        "    <tr>\n",
        "      <th>3 </th>\n",
        "      <td>  0.005044163</td>\n",
        "      <td> 5.289524</td>\n",
        "      <td> 1.354664</td>\n",
        "    </tr>\n",
        "    <tr>\n",
        "      <th>4 </th>\n",
        "      <td>  0.001261497</td>\n",
        "      <td> 6.675456</td>\n",
        "      <td> 1.262015</td>\n",
        "    </tr>\n",
        "    <tr>\n",
        "      <th>5 </th>\n",
        "      <td> 0.0003154027</td>\n",
        "      <td>  8.06166</td>\n",
        "      <td> 1.207657</td>\n",
        "    </tr>\n",
        "    <tr>\n",
        "      <th>6 </th>\n",
        "      <td> 7.885245e-05</td>\n",
        "      <td> 9.447932</td>\n",
        "      <td> 1.171959</td>\n",
        "    </tr>\n",
        "    <tr>\n",
        "      <th>7 </th>\n",
        "      <td> 1.971322e-05</td>\n",
        "      <td> 10.83422</td>\n",
        "      <td> 1.146729</td>\n",
        "    </tr>\n",
        "    <tr>\n",
        "      <th>8 </th>\n",
        "      <td> 4.928313e-06</td>\n",
        "      <td> 12.22051</td>\n",
        "      <td> 1.127955</td>\n",
        "    </tr>\n",
        "    <tr>\n",
        "      <th>9 </th>\n",
        "      <td> 1.232079e-06</td>\n",
        "      <td> 13.60681</td>\n",
        "      <td>  1.11344</td>\n",
        "    </tr>\n",
        "    <tr>\n",
        "      <th>10</th>\n",
        "      <td> 3.080197e-07</td>\n",
        "      <td>  14.9931</td>\n",
        "      <td> 1.101882</td>\n",
        "    </tr>\n",
        "    <tr>\n",
        "      <th>11</th>\n",
        "      <td> 7.700492e-08</td>\n",
        "      <td>  16.3794</td>\n",
        "      <td> 1.092462</td>\n",
        "    </tr>\n",
        "    <tr>\n",
        "      <th>12</th>\n",
        "      <td> 1.925123e-08</td>\n",
        "      <td> 17.76569</td>\n",
        "      <td> 1.084636</td>\n",
        "    </tr>\n",
        "    <tr>\n",
        "      <th>13</th>\n",
        "      <td> 4.812808e-09</td>\n",
        "      <td> 19.15199</td>\n",
        "      <td> 1.078032</td>\n",
        "    </tr>\n",
        "    <tr>\n",
        "      <th>14</th>\n",
        "      <td> 1.203202e-09</td>\n",
        "      <td> 20.53828</td>\n",
        "      <td> 1.072384</td>\n",
        "    </tr>\n",
        "  </tbody>\n",
        "</table>\n",
        "<p>15 rows \u00d7 3 columns</p>\n",
        "</div>"
       ],
       "metadata": {},
       "output_type": "pyout",
       "prompt_number": 11,
       "text": [
        "           $e_k$ $\\log e_k$ $\\frac{\\log e_{k}}{\\log e_{k-1}}$\n",
        "0      0.3131655   1.161023                              None\n",
        "1     0.08012519   2.524165                          2.174086\n",
        "2      0.0201475   3.904675                          1.546918\n",
        "3    0.005044163   5.289524                          1.354664\n",
        "4    0.001261497   6.675456                          1.262015\n",
        "5   0.0003154027    8.06166                          1.207657\n",
        "6   7.885245e-05   9.447932                          1.171959\n",
        "7   1.971322e-05   10.83422                          1.146729\n",
        "8   4.928313e-06   12.22051                          1.127955\n",
        "9   1.232079e-06   13.60681                           1.11344\n",
        "10  3.080197e-07    14.9931                          1.101882\n",
        "11  7.700492e-08    16.3794                          1.092462\n",
        "12  1.925123e-08   17.76569                          1.084636\n",
        "13  4.812808e-09   19.15199                          1.078032\n",
        "14  1.203202e-09   20.53828                          1.072384\n",
        "\n",
        "[15 rows x 3 columns]"
       ]
      }
     ],
     "prompt_number": 11
    },
    {
     "cell_type": "markdown",
     "metadata": {},
     "source": [
      "Parece que $\\frac{\\log e_{k}}{\\log e_{k-1}}$ converge a $1$ cuando $k\\to\\infty$. Se puede justificar que, para cualquier sucesi\u00f3n, $x_k$, este l\u00edmite coincide con el orden de convergencia de la sucesi\u00f3n. Para ello se usa que, por definici\u00f3n, una sucesi\u00f3n $x_k$ converge a $\\alpha$ con orden $p$ si y solo si el error $e_k=|x_k-\\alpha|$ verifica:\n",
      "\n",
      "> $e_{k+1}=C \\cdot e_k ^p$\n",
      "\n",
      "Basta despejar $p$ de la expresi\u00f3n anterior para llegar a la justificaci\u00f3n que buscamos. "
     ]
    },
    {
     "cell_type": "code",
     "collapsed": false,
     "input": [],
     "language": "python",
     "metadata": {},
     "outputs": []
    }
   ],
   "metadata": {}
  }
 ]
}