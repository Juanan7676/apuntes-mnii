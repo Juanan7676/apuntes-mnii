{
 "metadata": {
  "name": ""
 },
 "nbformat": 3,
 "nbformat_minor": 0,
 "worksheets": [
  {
   "cells": [
    {
     "cell_type": "heading",
     "level": 1,
     "metadata": {},
     "source": [
      "Tema 2. Problema 3"
     ]
    },
    {
     "cell_type": "markdown",
     "metadata": {},
     "source": [
      "Obtener una cota del error cuando interpolamos la funci\u00f3n\n",
      "$f(x)=e^{2-x}$ usando $n$\n",
      "nodos en $[-2,2]$. Estudiar gr\u00e1ficamente la evoluci\u00f3n del error\n",
      "cuando con $n=5,\\dots,15$."
     ]
    }
   ],
   "metadata": {}
  }
 ]
}