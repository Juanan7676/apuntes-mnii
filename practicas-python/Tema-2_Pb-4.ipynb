{
 "metadata": {
  "name": ""
 },
 "nbformat": 3,
 "nbformat_minor": 0,
 "worksheets": [
  {
   "cells": [
    {
     "cell_type": "heading",
     "level": 1,
     "metadata": {},
     "source": [
      "Problema 4 (tema 2)"
     ]
    },
    {
     "cell_type": "markdown",
     "metadata": {},
     "source": [
      "Dada la funci\u00f3n $f(x)=3xe^x-e^{2x}$, aproximar $f(0.2)$:\n",
      "\n",
      "1. Mediante el polinomio de interpolaci\u00f3n de Lagrange en el soporte $\\{-1,0,1\\}$\n",
      "2.  Mediante el polinomio de interpolaci\u00f3n de Hermite en el soporte $\\{-1,0,1\\}$\n",
      "\n",
      "En cada caso, calcular una cota del error cometido."
     ]
    },
    {
     "cell_type": "markdown",
     "metadata": {},
     "source": [
      "### 1. Interpol. Lagrange"
     ]
    },
    {
     "cell_type": "code",
     "collapsed": false,
     "input": [
      "def f(x): return 3*x*e**x-e**(2*x)\n",
      "nodos = array([-1., 0., 1.])\n",
      "valores = f(nodos)"
     ],
     "language": "python",
     "metadata": {},
     "outputs": [],
     "prompt_number": 4
    },
    {
     "cell_type": "markdown",
     "metadata": {},
     "source": [
      "Error: \n",
      "> $\\|f-p_n\\|_\\infty \\le \\frac{||f^{n+1)}||_{\\infty}}{(n+1)!} (b-a)^{n+1}$"
     ]
    },
    {
     "cell_type": "code",
     "collapsed": false,
     "input": [
      "import sympy as S\n",
      "xs = S.var('x')\n",
      "def F(x): return 3*x*S.exp(x)-S.exp(2*x))"
     ],
     "language": "python",
     "metadata": {},
     "outputs": []
    }
   ],
   "metadata": {}
  }
 ]
}