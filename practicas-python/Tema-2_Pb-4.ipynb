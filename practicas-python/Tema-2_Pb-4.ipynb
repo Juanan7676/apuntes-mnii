{
 "metadata": {
  "name": ""
 },
 "nbformat": 3,
 "nbformat_minor": 0,
 "worksheets": [
  {
   "cells": [
    {
     "cell_type": "heading",
     "level": 1,
     "metadata": {},
     "source": [
      "Problema 4 (tema 2)"
     ]
    },
    {
     "cell_type": "markdown",
     "metadata": {},
     "source": [
      "Dada la funci\u00f3n $f(x)=3xe^x-e^{2x}$, aproximar $f(1.5)$:\n",
      "\n",
      "1. Mediante el polinomio de interpolaci\u00f3n de Lagrange en el soporte $\\{0,1,2\\}$\n",
      "2. Mediante el polinomio de interpolaci\u00f3n de Hermite en el soporte $\\{0,1,2\\}$\n",
      "\n",
      "En cada caso, calcular una cota del error cometido utilizando las expresiones del error para polinomios de interpolaci\u00f3n (nota: al estimar el m\u00e1ximo de $f^{k)}(x)$, usar la simplemente la gr\u00e1fica de la derivada para ver que $f^{k)}(x)$ es mon\u00f3tona creciente o decreciente) y comparar con el \"aut\u00e9ntico error\"."
     ]
    },
    {
     "cell_type": "markdown",
     "metadata": {},
     "source": [
      "### 1. Interpol. Lagrange"
     ]
    },
    {
     "cell_type": "code",
     "collapsed": false,
     "input": [
      "def f(x): return 3*x*e**x-e**(2*x)\n",
      "nod = array([0., 1., 2.])\n",
      "val = f(nod)\n",
      "a, b = min(nod), max(nod)\n",
      "print \"[a, b] = [%f, %f]\" % (a, b)\n",
      "\n",
      "from scipy.interpolate import lagrange\n",
      "pol_lagrange = lagrange(nod, val) # Polinom. de interpol. de Lagrange\n",
      "\n",
      "xx = linspace(a, b, 200)\n",
      "axhline(c='black', lw=2);\n",
      "plot(xx, pol_lagrange(xx), lw=3, label='Interpol. Lagrange')\n",
      "plot(xx, f(xx), '--', lw=3, label='$f(x)$')\n",
      "plot(nod, val, 'o', c='red', markersize=8)\n",
      "legend(loc='lower left')\n",
      "grid()"
     ],
     "language": "python",
     "metadata": {},
     "outputs": [
      {
       "output_type": "stream",
       "stream": "stdout",
       "text": [
        "[a, b] = [0.000000, 2.000000]\n"
       ]
      },
      {
       "metadata": {},
       "output_type": "display_data",
       "png": "[encoded data removed]",
       "text": [
        "<matplotlib.figure.Figure at 0x7fdd88f2e610>"
       ]
      }
     ],
     "prompt_number": 1
    },
    {
     "cell_type": "markdown",
     "metadata": {},
     "source": [
      "Error \"aut\u00e9ntico\" cometido en $P=1.5$:"
     ]
    },
    {
     "cell_type": "code",
     "collapsed": false,
     "input": [
      "P = 1.5\n",
      "aprox_fP = pol_lagrange(P)\n",
      "print \"Aproximaci\u00f3n de f(%f): %f\" % (P, aprox_fP)\n",
      "print \"Valor 'verdadero' de f(%f): %f\" % (P, f(P))\n",
      "error_autentico = abs(f(P) - aprox_fP)\n",
      "print \"Error cometido: \", error_autentico"
     ],
     "language": "python",
     "metadata": {},
     "outputs": [
      {
       "output_type": "stream",
       "stream": "stdout",
       "text": [
        "Aproximaci\u00f3n de f(1.500000): -3.149588\n",
        "Valor 'verdadero' de f(1.500000): 0.082064\n",
        "Error cometido:  3.23165189333\n"
       ]
      }
     ],
     "prompt_number": 2
    },
    {
     "cell_type": "markdown",
     "metadata": {},
     "source": [
      "Cota del error: para $x=P=1.5$, debemos evaluar:\n",
      ">\\begin{align*}\n",
      "    f(x)-p_n(x) &= \\frac{f^{n+1)(\\xi)}}{(n+1)!} (x-x_0)(x-x_1)(x-x_2),\n",
      "    \\\\\n",
      "    ||f-p_n||_\\infty &\\le \\frac{||f^{n+1)}||_{\\infty}}{(n+1)!} ||(x-x_0)(x-x_1)(x-x_2)||_\\infty.\n",
      " \\end{align*}\n",
      "\n",
      "En este caso, $n=2$. Lo m\u00e1s dif\u00edcil es evaluar el m\u00e1ximo en $[a,b]=[0,2]$ de $|f^{n+1)}(x)|=|f^{3)}(x)|$:\n",
      ">\\begin{align*}\n",
      "  f(x)&=3xe^x-e^{2x},\n",
      "  \\\\\n",
      "  f'(x) &=3e^x+3xe^x-2e^{2x},\n",
      "  \\\\\n",
      "  f''(x)&=6e^x +3xe^x -4e^{2x},\n",
      "  \\\\\n",
      "  f'''(x)&=9e^x +3xe^x -8e^{2x}.\n",
      " \\end{align*}\n",
      "Habr\u00eda que estudiar el crecimiento de $f'''(x)$. En este caso nos conformamos con analizar gr\u00e1ficamente su comportamiento:"
     ]
    },
    {
     "cell_type": "code",
     "collapsed": false,
     "input": [
      "def f3(x): return 9*exp(x)+3*x*exp(x)-8*exp(2*x)\n",
      "plot(xx, f3(xx))\n",
      "grid()"
     ],
     "language": "python",
     "metadata": {},
     "outputs": [
      {
       "metadata": {},
       "output_type": "display_data",
       "png": "[encoded data removed]",
       "text": [
        "<matplotlib.figure.Figure at 0x7fdd7cd780d0>"
       ]
      }
     ],
     "prompt_number": 3
    },
    {
     "cell_type": "markdown",
     "metadata": {},
     "source": [
      "La funci\u00f3n parece ser decreciente, por lo que $\\displaystyle\\max_{x\\in[0,2]} |f'''(x)|=|f'''(0)|$ \u00f3 $|f'''(2)|$ (en este caso, $|f'''(2)|$):"
     ]
    },
    {
     "cell_type": "code",
     "collapsed": false,
     "input": [
      "abs(f3(0)), abs(f3(2))"
     ],
     "language": "python",
     "metadata": {},
     "outputs": [
      {
       "metadata": {},
       "output_type": "pyout",
       "prompt_number": 4,
       "text": [
        "(1.0, 325.94935878119412)"
       ]
      }
     ],
     "prompt_number": 4
    },
    {
     "cell_type": "markdown",
     "metadata": {},
     "source": [
      "Y as\u00ed tenemos la siguiente cota del error:"
     ]
    },
    {
     "cell_type": "code",
     "collapsed": false,
     "input": [
      "M3 = abs(f3(2))\n",
      "cota_error = M3/12*abs((P-nod[0])*(P-nod[1])*(P-nod[2]))\n",
      "print \"Cota del error:\", cota_error"
     ],
     "language": "python",
     "metadata": {},
     "outputs": [
      {
       "output_type": "stream",
       "stream": "stdout",
       "text": [
        "Cota del error: 10.1859174619\n"
       ]
      }
     ],
     "prompt_number": 5
    },
    {
     "cell_type": "markdown",
     "metadata": {},
     "source": [
      "Como se puede ver, la cota del error  es \"pesimista\" con respecto al error real."
     ]
    },
    {
     "cell_type": "markdown",
     "metadata": {},
     "source": [
      "### 2. Interpol. Hermite"
     ]
    },
    {
     "cell_type": "markdown",
     "metadata": {},
     "source": [
      "Para la interpolaci\u00f3n de Hermite se utilizan, en cada nodo $x_i$, los valores $f(x_i)$ y  $f'(x_i)$. Definimos la funci\u00f3n $f'(x)$:"
     ]
    },
    {
     "cell_type": "code",
     "collapsed": false,
     "input": [
      "def f1(x): return 3*e**x+3*x*e**x-2*e**(2*x)\n",
      "deriv = f1(nod) # Lista de valores de la derivada en cada nodo"
     ],
     "language": "python",
     "metadata": {},
     "outputs": [],
     "prompt_number": 6
    },
    {
     "cell_type": "markdown",
     "metadata": {},
     "source": [
      "*Scipy* utiliza una implementaci\u00f3n de polinomios de interpolaci\u00f3n de Hermite debida a [Krogh, 1970, Efficient Algorithms for Polynomial Interpolation and Numerical Differentiation]. Para utilizarla:"
     ]
    },
    {
     "cell_type": "code",
     "collapsed": false,
     "input": [
      "from scipy.interpolate import KroghInterpolator"
     ],
     "language": "python",
     "metadata": {},
     "outputs": [],
     "prompt_number": 7
    },
    {
     "cell_type": "code",
     "collapsed": false,
     "input": [
      "# Para mayor claridad, damos nombre a cada nodo xi, yi=f(xi), di=f'(xi)\n",
      "x0, x1, x2 = nod\n",
      "y0, y1, y2 = val\n",
      "z0, z1, z2 = deriv\n",
      "\n",
      "# E interpolamos:\n",
      "pol_hermite = KroghInterpolator(\n",
      "    [x0, x0,  x1, x1,  x2, x2], # Coordenadas x: x0, x0, x1, x1, x2, x2\n",
      "    [y0, z0,  y1, z1,  y2, z2]  # Valores y derivadas: y0, y0', y1, y1', y2, y2'\n",
      "    )"
     ],
     "language": "python",
     "metadata": {},
     "outputs": [],
     "prompt_number": 8
    },
    {
     "cell_type": "code",
     "collapsed": false,
     "input": [
      "xx = linspace(a, b, 200)\n",
      "axhline(c='black', lw=2); axvline(c='black', lw=2)\n",
      "plot(xx, pol_hermite(xx), lw=3, label='Interpol. Hermite')\n",
      "plot(xx, f(xx), '--', lw=3, label='$f(x)$')\n",
      "plot(nod, val, 'o', c='red', markersize=8)\n",
      "legend(loc='lower left')\n",
      "grid()"
     ],
     "language": "python",
     "metadata": {},
     "outputs": [
      {
       "metadata": {},
       "output_type": "display_data",
       "png": "[encoded data removed]",
       "text": [
        "<matplotlib.figure.Figure at 0x7fdd7cd360d0>"
       ]
      }
     ],
     "prompt_number": 9
    },
    {
     "cell_type": "heading",
     "level": 6,
     "metadata": {},
     "source": [
      "Ahora usamos s\u00f3lo dos puntos para interpolaci\u00f3n de Hermite"
     ]
    },
    {
     "cell_type": "markdown",
     "metadata": {},
     "source": [
      "Cota del error: para $x=P=1.5$, debemos evaluar:\n",
      ">$$\n",
      "  f(x)-p_{2n+1}(x) = \\frac{f^{2n+2)(\\xi)}}{(2n+2)!} (x-x_0)^2(x-x_1)^2(x-x_2)^2,\n",
      "$$\n",
      "\n",
      "o bien:\n",
      ">$$\n",
      "\\|f-p_n\\|_{\\infty} \\le \\frac{||f^{6)}||_{\\infty}}{(2n+2)!} ||(x-x_0)^2(x-x_1)^2(x-x_2)^2||_{\\infty}.\n",
      "$$\n",
      "Ahora:\n",
      ">\\begin{align*}\n",
      "  f^{3)}(x)&=9e^x +3xe^x -8e^{2x},\\\\\n",
      "  f^{4)}(x)&=12e^x +3xe^x -16e^{2x},\\\\\n",
      "  f^{5)}(x)&=15e^x +3xe^x -32e^{2x},\\\\\n",
      "  f^{6)}(x)&=18e^x +3xe^x -64e^{2x}.\\\\\n",
      " \\end{align*}\n",
      " \n",
      "As\u00ed podemos calcular una cota del error:"
     ]
    },
    {
     "cell_type": "code",
     "collapsed": false,
     "input": [
      "def f6(x): return 18*exp(x)+3*x*exp(x)-64*exp(2*x)\n",
      "plot(xx, f6(xx))\n",
      "grid()\n",
      "abs(f6(0)), abs(f6(2))\n",
      "M6 = abs(f6(2))\n",
      "cota_error = M6/(7*6*5*4+3*2) * (P-x0)**2 * (P-x1)**2 * (P-x2)**2\n",
      "print \"cota_error =\", cota_error\n",
      "print \"error 'verdadero' =\", abs(f(P) - pol_hermite(P))"
     ],
     "language": "python",
     "metadata": {},
     "outputs": [
      {
       "output_type": "stream",
       "stream": "stdout",
       "text": [
        "cota_error = 0.551353765915\n",
        "error 'verdadero' = 0.11055503988\n"
       ]
      },
      {
       "metadata": {},
       "output_type": "display_data",
       "png": "[encoded data removed]",
       "text": [
        "<matplotlib.figure.Figure at 0x7fdd7cda4510>"
       ]
      }
     ],
     "prompt_number": 10
    },
    {
     "cell_type": "code",
     "collapsed": false,
     "input": [],
     "language": "python",
     "metadata": {},
     "outputs": [],
     "prompt_number": 10
    }
   ],
   "metadata": {}
  }
 ]
}