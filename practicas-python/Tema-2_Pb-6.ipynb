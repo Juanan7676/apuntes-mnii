{
 "metadata": {
  "name": ""
 },
 "nbformat": 3,
 "nbformat_minor": 0,
 "worksheets": [
  {
   "cells": [
    {
     "cell_type": "heading",
     "level": 1,
     "metadata": {},
     "source": [
      "Problema 2 (Tema 6) "
     ]
    },
    {
     "cell_type": "markdown",
     "metadata": {},
     "source": [
      "Calcular el spline c\u00fabico que interpola los puntos $(-1,5)$, $(0,3)$, $(0,3)$."
     ]
    },
    {
     "cell_type": "code",
     "collapsed": false,
     "input": [
      "x0, x1, x2 = -1, 0, 1\n",
      "y0, y1, y2 =  5, 3, 3 "
     ],
     "language": "python",
     "metadata": {},
     "outputs": [],
     "prompt_number": 1
    },
    {
     "cell_type": "markdown",
     "metadata": {},
     "source": [
      "Para calcular los splines c\u00fabicos debemos resolver el sistema de ecuaciones que define los coeficientes de los polinomios c\u00fabicos en los subintervalos $[-1,0]$ y $[0,1]$.\n",
      "\n",
      "Sean:\n",
      "  * $s_0(x) = a_0 + b_0 (x-x_0) + c_0 (x-x_0)^2 + d_0 (x-x_0)^3$,\n",
      "  * $s_1(x) = a_1 + b_1 (x-x_1) + c_1 (x-x_1)^2 + d_1 (x-x_1)^3$,\n",
      "\n",
      "es decir:\n",
      "  * $s_0(x) = a_0 + b_0 (x+1) + c_0 (x+1)^2 + d_0 (x+1)^3$,\n",
      "  * $s_1(x) = a_1 + b_1 x + c_1 x^2 + d_1 x^3$.\n",
      "\n",
      "Entonces\n",
      "  * $s_0'(x) =  b_0 + 2 c_0 (x+1) + 3 d_0 (x+1)^2$,\n",
      "  * $s_0''(x) = 2 c_0 + 6 d_0 (x+1)$,\n",
      "  * $s_1'(x) =  b_1 + 2 c_1 x + 3 d_1 x^2$,\n",
      "  * $s_1''(x) = 2 c_1 + 6 d_1 x$.\n",
      "\n",
      "Tenemos 8 inc\u00f3gnitas, $a_i$, $b_i$, $c_i$, $d_i$ con $i=0,1$. Las ecuaciones son:\n",
      "\n",
      "  * Interpolaci\u00f3n (y continuidad en 0):\n",
      "\n",
      "    * $s_0(-1) = 5$, es decir, $a_0=5$.\n",
      "    * $s_0(0)  = 3$, es decir, $a_0+b_0+c_0+d_0=3$.\n",
      "    * $s_1(-1) = 3$, es decir, $a_1=3$.\n",
      "    * $s_1(1)  = 3$, es decir, $a_1+b_1+c_1+d_1=3$.\n",
      "    \n",
      "  * Derivabilidad:\n",
      "\n",
      "    * $s_0'(0) = s_1'(-1)$, es decir, $b_0+2c_0+3d_0 = b_1$.\n",
      "    * $s_0''(0) = s_1''(-1)$, es decir, $2c_0+6d_0 = 2c_1$.\n",
      "\n",
      "  * Condiciones naturales en los extremos, $-1$ y $1$:\n",
      "\n",
      "    * $s_0''(-1) = 0$, es decir, $2c_0=0$. \n",
      "    * $s_1''(1) = 0$, o sea $2c_1+6d_1=0$.\n",
      "\n",
      "\n",
      "De estas ecuaciones tenemos directamente $a_0$, $a_1$, y $c_1$. Le damos valores a las variables en python:"
     ]
    },
    {
     "cell_type": "code",
     "collapsed": false,
     "input": [
      "a0 = 5\n",
      "a1 = 3\n",
      "c0 = 0"
     ],
     "language": "python",
     "metadata": {},
     "outputs": [],
     "prompt_number": 2
    },
    {
     "cell_type": "markdown",
     "metadata": {},
     "source": [
      "As\u00ed, podemos eliminar la primera, tercera y s\u00e9ptima ecuaci\u00f3n, llegando a un sistema de cinco ecuaciones con cinco inc\u00f3gnitas ($b_0$, $d_0$, $b_1$, $c_1$, $d_1$):\n",
      "\n",
      " * $b_0+d_0=3-a_0-c_0=-2$,\n",
      " * $b_1+c_1+d_1=3-a_1=0$,\n",
      " * $b_0+3d_0 - b_1 = -2c_0 = 0$,\n",
      " * $6d_0 - 2c_1 = -2c_0=0$\n",
      " * $2c_1+6d_1=0$\n",
      " \n",
      "\n",
      "La matriz y el segundo miembro asociados son:"
     ]
    },
    {
     "cell_type": "code",
     "collapsed": false,
     "input": [
      "A = array([ \n",
      "\t[ 1, 1,   0,  0, 0],\n",
      "\t[ 0, 0,   1,  1, 1],\n",
      "\t[ 1, 3,  -1,  0, 0],\n",
      "\t[ 0, 6,   0, -2, 0],\n",
      "\t[ 0, 0,   0,  2, 6]])\n",
      "b = array([-2, 0, 0, 0, 0])"
     ],
     "language": "python",
     "metadata": {},
     "outputs": [],
     "prompt_number": 13
    },
    {
     "cell_type": "markdown",
     "metadata": {},
     "source": [
      "Ahora podemos resolver este sistema usando la funci\u00f3n `solve()` (del paquete *numpy*, que es inclu\u00eddo por *Ipython Notebook*):"
     ]
    },
    {
     "cell_type": "code",
     "collapsed": false,
     "input": [
      "sol = solve(A,b)\n",
      "\n",
      "# Definimos la soluci\u00f3n como variables b0, d0, b1, c1 y d1\n",
      "b0, d0, b1, c1, d1 = sol\n",
      "\n",
      "# Y mostramos los resultados\n",
      "print \"a0, b0, c0, d0 = %f, %f, %f, %f\" % (a0, b0, c0, d0)\n",
      "print \"a1, b1, c1, d1 = %f, %f, %f, %f\" % (a1, b1, c1, d1)"
     ],
     "language": "python",
     "metadata": {},
     "outputs": [
      {
       "output_type": "stream",
       "stream": "stdout",
       "text": [
        "a0, b0, c0, d0 = 5.000000, -2.500000, 0.000000, 0.500000\n",
        "a1, b1, c1, d1 = 3.000000, -1.000000, 1.500000, -0.500000\n"
       ]
      }
     ],
     "prompt_number": 15
    },
    {
     "cell_type": "markdown",
     "metadata": {},
     "source": [
      "Para dibujar la gr\u00e1fica, lo m\u00e1s f\u00e1cil es definir los polinomios $s_0$ y $s_1$ y representarlos gr\u00e1ficamente."
     ]
    },
    {
     "cell_type": "code",
     "collapsed": false,
     "input": [
      "def s0(x): return a0 + b0*(x+1) + c0*(x+1)**2 + d0*(x+1)**3\n",
      "def s1(x): return a1 + b1*x + c1*x**2 + d1*x**3\n",
      "\n",
      "xx=linspace(-1,0)\n",
      "plot(xx, s0(xx), lw=3)\n",
      "xx=linspace(0,1)\n",
      "plot(xx, s1(xx), lw=3)\n",
      "plot([x0,x1,x2], [y0, y1, y2], 'o')\n",
      "axvline(c='black')\n",
      "grid()"
     ],
     "language": "python",
     "metadata": {},
     "outputs": [
      {
       "metadata": {},
       "output_type": "display_data",
       "png": "[encoded data removed]",
       "text": [
        "<matplotlib.figure.Figure at 0x7f79fbb46f50>"
       ]
      }
     ],
     "prompt_number": 12
    },
    {
     "cell_type": "code",
     "collapsed": false,
     "input": [],
     "language": "python",
     "metadata": {},
     "outputs": []
    }
   ],
   "metadata": {}
  }
 ]
}