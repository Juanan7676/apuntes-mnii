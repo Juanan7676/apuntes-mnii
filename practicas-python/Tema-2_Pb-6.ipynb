{
 "metadata": {
  "name": "Tema-2_Pb-6"
 },
 "nbformat": 3,
 "nbformat_minor": 0,
 "worksheets": [
  {
   "cells": [
    {
     "cell_type": "heading",
     "level": 1,
     "metadata": {},
     "source": [
      "Problema 2 (Tema 6) "
     ]
    },
    {
     "cell_type": "code",
     "collapsed": false,
     "input": [
      "def f(x): return x+6/(x**3+2)"
     ],
     "language": "python",
     "metadata": {},
     "outputs": [],
     "prompt_number": 1
    },
    {
     "cell_type": "code",
     "collapsed": false,
     "input": [
      "x0, x1, x2 = -1, 0, 1\n",
      "y0, y1, y2 = f(x0), f(x1), f(x2)\n",
      "y0, y1, y2\n",
      "\n",
      "xx = linspace(x0,x2)\n",
      "plot(xx, f(xx))\n",
      "\n",
      "nod = x0, x1, x2\n",
      "val = y0, y1, y2\n",
      "plot (nod, val, 'o')\n",
      "print nod\n",
      "print val"
     ],
     "language": "python",
     "metadata": {},
     "outputs": [
      {
       "output_type": "stream",
       "stream": "stdout",
       "text": [
        "(-1, 0, 1)\n",
        "(5, 3, 3)\n"
       ]
      },
      {
       "output_type": "display_data",
       "png": "[encoded data removed]"
      }
     ],
     "prompt_number": 11
    },
    {
     "cell_type": "code",
     "collapsed": false,
     "input": [
      "a0 = 5\n",
      "a1 = 3\n",
      "c0 = 0"
     ],
     "language": "python",
     "metadata": {},
     "outputs": [],
     "prompt_number": 4
    },
    {
     "cell_type": "code",
     "collapsed": false,
     "input": [
      "A = array([ \n",
      "\t[ 1, 1,   0, 0, 0],\n",
      "\t[ 0, 0,   1, 1, 1],\n",
      "\t[ 1, 3,  -1, 0, 0],\n",
      "\t[ 0, 6,   0, -2, 0],\n",
      "\t[ 0, 0,   0, 2, 6]])\n",
      "b = array([3, 3, 0, 0, 0])\n",
      "print \"A=\", A\n",
      "print \"b=\", b"
     ],
     "language": "python",
     "metadata": {},
     "outputs": [
      {
       "output_type": "stream",
       "stream": "stdout",
       "text": [
        "A= [[ 1  1  0  0  0]\n",
        " [ 0  0  1  1  1]\n",
        " [ 1  3 -1  0  0]\n",
        " [ 0  6  0 -2  0]\n",
        " [ 0  0  0  2  6]]\n",
        "b= [3 3 0 0 0]\n"
       ]
      }
     ],
     "prompt_number": 8
    },
    {
     "cell_type": "code",
     "collapsed": false,
     "input": [
      "sol = solve(A,b)\n",
      "sol"
     ],
     "language": "python",
     "metadata": {},
     "outputs": [
      {
       "output_type": "pyout",
       "prompt_number": 6,
       "text": [
        "array([ 3.,  0.,  3.,  0., -0.])"
       ]
      }
     ],
     "prompt_number": 6
    },
    {
     "cell_type": "code",
     "collapsed": false,
     "input": [
      "b0, d0 = sol[0], sol[1]\n",
      "b1, c1, d1 = sol[2], sol[3], sol[4]\n",
      "\n",
      "def s0(x): return a0 + b0*(x+1) + c0*(x+1)**2 + d0*(x+1)**3\n",
      "def s1(x): return a1 + b1*x + c1*x**2 + d1*x**3\n",
      "\n",
      "def s(x):\n",
      "    if x<0: return s0(x)\n",
      "    else: return s1(x)\n",
      "\n",
      "xx=linspace(-1,0)\n",
      "plot(xx, s0(xx))\n",
      "xx=linspace(0,1)\n",
      "plot(xx, s1(xx))"
     ],
     "language": "python",
     "metadata": {},
     "outputs": [
      {
       "output_type": "pyout",
       "prompt_number": 7,
       "text": [
        "[<matplotlib.lines.Line2D at 0x3c2e910>]"
       ]
      },
      {
       "output_type": "display_data",
       "png": "[encoded data removed]"
      }
     ],
     "prompt_number": 7
    },
    {
     "cell_type": "code",
     "collapsed": false,
     "input": [],
     "language": "python",
     "metadata": {},
     "outputs": []
    }
   ],
   "metadata": {}
  }
 ]
}