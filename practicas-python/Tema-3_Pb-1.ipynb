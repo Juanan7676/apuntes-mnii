{
 "metadata": {
  "name": "Tema-3_Pb-1"
 },
 "nbformat": 3,
 "nbformat_minor": 0,
 "worksheets": [
  {
   "cells": [
    {
     "cell_type": "heading",
     "level": 1,
     "metadata": {},
     "source": [
      "Problema 1 (tema 3)"
     ]
    },
    {
     "cell_type": "markdown",
     "metadata": {},
     "source": [
      "Deducir la f\u00f3rmula compuesta de los trapecios, as\u00ed como la expresi\u00f3n del error. Utilizando esta f\u00f3rmula, calcular una aproximaci\u00f3n de la integral\n",
      "\n",
      ">$$\n",
      " \\int_0^1 \\log(1+x^2)\\, dx\n",
      " $$\n",
      " \n",
      "en la que podamos garantizar que el error de cuadratura es menor que $\\varepsilon=0.001$. \u00bfEn cu\u00e1ntos subintervalos hay que dividir el intervalo $[0,1]$?"
     ]
    },
    {
     "cell_type": "heading",
     "level": 3,
     "metadata": {},
     "source": [
      "1. F\u00f3rmula compuesta de los trapecios"
     ]
    },
    {
     "cell_type": "markdown",
     "metadata": {},
     "source": [
      "La f\u00f3rmula de los trapecios en un intervalo $[a,b]$ se escribe como\n",
      "\n",
      "> $$\n",
      "  \\int_{a}^{b} f(x)\\,dx = \\frac{\\widehat h}{2}(f(a)+f(b)) - \\frac{\\widehat h^3}{12} f''(\\xi), \\quad \\xi\\in(a,b),\n",
      "  $$\n",
      "  \n",
      "donde $\\widehat h=b-a$. En el caso de una f\u00f3rmula cerrada, dividimos el intervalo $[a,b]$ en $N$ subintervalos $[\\overline x_i, \\overline x_{i+1}]$ y en cada uno de ellos aplicamos la f.c anterior. \n",
      "\n",
      "Como en el caso de la f.c. de los trapecios s\u00f3lo se utilizan los dos extremos del intervalo, tendremos que los nodos de cuadratura, $x_i$ son iguales a los extremos de los subintervalos, $\\overline x_i$. Denotando $h=x_{i+1}-x_i = (b-a)/N$, y aplicando la f\u00f3rmula anterior con $[a,b]=[x_i, x_{i+1}]$, obtenemos la siguiente expresi\u00f3n de la f\u00f3rmula compuesta de los trapecios:\n",
      "> $$\n",
      "  \\int_{a}^{b} f(x)\\,dx \n",
      "  = \\sum_{i=0}^{N-1}  \\int_{i}^{x_{i+1}} f(x)\\,dx\n",
      "  = \\frac{h}{2} \\sum_{i=0}^{N-1} (f(x_i)+f(x_{i+1})) \n",
      "    - \\frac{h^3}{12}  \\sum_{i=0}^{N-1} f''(\\xi_i),\n",
      "  $$\n",
      "\n",
      "donde $\\xi_i\\in (x_i,x_{i+1})$.\n",
      "\n",
      "Podemos eliminar el sumatorio que aparece en el \u00faltimo t\u00e9rmino (t\u00e9rmino de error) en la expresi\u00f3n anterior. Para ello, tenemos en cuenta que\n",
      "> $$\n",
      "  m_2 \\le \\frac 1 N \\sum_{i=0}^{N-1} f''(\\xi_i) \\le M_2,\n",
      "  $$\n",
      "  \n",
      "donde $m_2=\\min_{x\\in[a,b]} |f''(x)|$ y $M_2=\\max_{x\\in [a,b]} |f''(x)|$. Como $f''$ es continua, alcanza todos los valores entre $m_2$ y $M_2$, en particular existe $\\xi\\in[a,b]$ tal que\n",
      "> $$\n",
      "  f''(\\xi) = \\frac 1 N \\sum_{i=0}^{N-1} f''(\\xi_i).\n",
      "  $$\n",
      "  \n",
      "Luego\n",
      "> $$\n",
      "  \\sum_{i=0}^{N-1} f''(\\xi_i) = N f''(\\xi) = \\frac{b-a} h f''(\\xi).\n",
      "  $$\n",
      "  \n",
      "Sustituyendo en la expresi\u00f3n anterior de la f\u00f3rmula compuesta, tenemos la f\u00f3rmula compuesta de los trapecios definitiva:\n",
      "> $$\n",
      "  \\int_{a}^{b} f(x)\\,dx \n",
      "  = \\sum_{i=0}^{N-1}  \\int_{i}^{x_{i+1}} f(x)\\,dx\n",
      "  =  \\frac{h}{2} \\sum_{i=0}^{N-1}(f(x_i)+f(x_{i+1})) \n",
      "    - \\frac{(b-a) h^2}{12}f''(\\xi),\n",
      "  $$\n",
      "\n",
      "donde $\\xi\\in [a,b]$.\n"
     ]
    },
    {
     "cell_type": "heading",
     "level": 3,
     "metadata": {},
     "source": [
      "2. C\u00e1lculo del n\u00famero de intervalos necesarios para que el error sea menor que $\\varepsilon$"
     ]
    },
    {
     "cell_type": "code",
     "collapsed": false,
     "input": [
      "a, b = 0, 1\n",
      "def f(x): return log(1+x**2)\n",
      "epsilon = 0.001 "
     ],
     "language": "python",
     "metadata": {},
     "outputs": [],
     "prompt_number": 1
    },
    {
     "cell_type": "markdown",
     "metadata": {},
     "source": [
      "Para acotar el error en la f\u00f3rmula de los trapecios, tendremos que tomar m\u00e1ximo en $f''$:\n",
      "\n",
      "\n",
      "> $$\n",
      "  |E_N(f)| \\le  \\frac{(b-a) h^2}{12} \\max_{x\\in [a,b]} |f''(x)|.\n",
      "  $$\n",
      "  \n",
      "Estudiaremos la expresi\u00f3n de $f''(x)$ para intentar hallar el m\u00e1ximo en $[a,b]=[0,1]$.\n",
      "\n",
      "  * $\\displaystyle f'(x)=\\frac{2x}{1+x^2}$\n",
      "  * $\\displaystyle f''(x)=\\frac{2(1+x^2) - 2x\\cdot2x}{(1+x^2)^2}\n",
      "      = \\frac{2 - 2x^2}{(1+x^2)^2}$\n",
      "      \n",
      "Podemos ver gr\u00e1ficamente que esta funci\u00f3n es decreciente en $[0,1]$:"
     ]
    },
    {
     "cell_type": "code",
     "collapsed": false,
     "input": [
      "def D2f(x): return (2 - 2*x**2)/((1+x**2)**2)\n",
      "xx = linspace(a, b, 100)\n",
      "plot(xx, D2f(xx), lw=3, label=\"$f''(x)$\")\n",
      "legend()\n",
      "grid()"
     ],
     "language": "python",
     "metadata": {},
     "outputs": [
      {
       "output_type": "display_data",
       "png": "[encoded data removed]"
      }
     ],
     "prompt_number": 2
    },
    {
     "cell_type": "markdown",
     "metadata": {},
     "source": [
      "Aceptando que $f''(x)$ es decreciente en $[0,1]$ (para confirmalo tendr\u00edamos que ver que $f'''(x)\\le 0$), podemos concluir que $M_2=\\max_{[0,1]}|f''(x)| = |f''(0)|$ \u00f3 $|f''(1)|$. En este caso:"
     ]
    },
    {
     "cell_type": "code",
     "collapsed": false,
     "input": [
      "print abs(D2f(0)), \",\", abs(D2f(1))\n",
      "M2 = max(D2f(0), D2f(1))\n",
      "print M2"
     ],
     "language": "python",
     "metadata": {},
     "outputs": [
      {
       "output_type": "stream",
       "stream": "stdout",
       "text": [
        "2 , 0\n",
        "2\n"
       ]
      }
     ],
     "prompt_number": 3
    },
    {
     "cell_type": "markdown",
     "metadata": {},
     "source": [
      "Luego\n",
      "> $$\n",
      "  |E_N(f)| \\le  \\frac{(b-a) h^2}{12} M_2 = \\frac{h^2}{6}.\n",
      "  $$\n",
      "  "
     ]
    },
    {
     "cell_type": "markdown",
     "metadata": {},
     "source": [
      "Para que el error sea manor que $\\varepsilon=0.001$, basta tomar $h$ tal que:\n",
      "\n",
      "> $$\n",
      "  \\frac{h^2}{6} = \\varepsilon,\n",
      "  $$\n",
      "\n",
      "es decir\n",
      "\n",
      "> $$\n",
      "  h = +\\sqrt{6 \\varepsilon} = +\\sqrt{0.006}\n",
      "  $$\n",
      "\n"
     ]
    },
    {
     "cell_type": "code",
     "collapsed": false,
     "input": [
      "h = sqrt(0.006)\n",
      "h"
     ],
     "language": "python",
     "metadata": {},
     "outputs": [
      {
       "output_type": "pyout",
       "prompt_number": 4,
       "text": [
        "0.077459666924148338"
       ]
      }
     ],
     "prompt_number": 4
    },
    {
     "cell_type": "markdown",
     "metadata": {},
     "source": [
      "Como el n\u00famero de subintervalos es $N=(b-a)/h$,  se debe verificar que $N$ sea superior a"
     ]
    },
    {
     "cell_type": "code",
     "collapsed": false,
     "input": [
      "(b-a)/h"
     ],
     "language": "python",
     "metadata": {},
     "outputs": [
      {
       "output_type": "pyout",
       "prompt_number": 5,
       "text": [
        "12.909944487358056"
       ]
      }
     ],
     "prompt_number": 5
    },
    {
     "cell_type": "markdown",
     "metadata": {},
     "source": [
      "Por ejemplo $N=13$. Seguidamente, implementaremos en el ordenador la f\u00f3rmula de los trapecios:\n",
      "\n",
      "> $$\n",
      "  \\sum_{i=0}^{N-1}\\frac{h}{2}(f(x_i)+f(x_{i+1})) \n",
      "= h(f(0)/2 + \\sum_{i=1}^{N-1} f(x_i) + f(N)/2)\n",
      "  $$"
     ]
    },
    {
     "cell_type": "code",
     "collapsed": false,
     "input": [
      "N=90\n",
      "h = float(b-a)/N\n",
      "\n",
      "# Definimos $N+1$ nodos equidistribuidos en [a,b]\n",
      "x = linspace(a, b, N+1)\n",
      "\n",
      "x_interior = array( [x[i] for i in range(1, N-1)] )\n",
      "\n",
      "quad_f = h*( f(a) + 2*sum(f(x_interior)) + f(b) )\n",
      "print quad_f\n",
      "\n",
      "# Comparamos con la funci\u00f3n predefinida en Python\n",
      "from scipy.integrate import quad\n",
      "print quad(f, a, b)"
     ],
     "language": "python",
     "metadata": {},
     "outputs": [
      {
       "output_type": "stream",
       "stream": "stdout",
       "text": [
        "0.512751228662\n",
        "(0.26394350735484196, 2.930361590656649e-15)\n"
       ]
      }
     ],
     "prompt_number": 23
    },
    {
     "cell_type": "code",
     "collapsed": false,
     "input": [
      ", "
     ],
     "language": "python",
     "metadata": {},
     "outputs": []
    }
   ],
   "metadata": {}
  }
 ]
}