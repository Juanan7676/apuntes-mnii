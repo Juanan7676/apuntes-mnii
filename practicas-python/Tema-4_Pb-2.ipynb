{
 "metadata": {
  "name": ""
 },
 "nbformat": 3,
 "nbformat_minor": 0,
 "worksheets": [
  {
   "cells": [
    {
     "cell_type": "heading",
     "level": 1,
     "metadata": {},
     "source": [
      "Problema 2 (tema 4)"
     ]
    },
    {
     "cell_type": "markdown",
     "metadata": {},
     "source": [
      "Demostrar que existe el siguiente problema de valor inicial est\u00e1 bien planteado (es decir, tiene una \u00fanica soluci\u00f3n):\n",
      ">\\begin{align*}\n",
      "      &y'=y(y-x)(y-2), \\quad x\\in[0,3],\\\\\n",
      "      &y(0)=1.\n",
      "\\end{align*}\n",
      "\n",
      "Aproximar la soluci\u00f3n con $h=0.2$ usando el m\u00e9todo de Euler mejorado y comparar con la soluci\u00f3n aproximada que proporciona la funci\u00f3n `odeint` de Python. Calcular la diferencia, en norma infinito, entre ambas aproximaciones."
     ]
    },
    {
     "cell_type": "heading",
     "level": 3,
     "metadata": {},
     "source": [
      "1.- Buen planteamiento del problema"
     ]
    },
    {
     "cell_type": "markdown",
     "metadata": {},
     "source": [
      "Sea $y(x)$ la soluci\u00f3n maximal del problema anterior. Tenemos que ver que est\u00e1 definida en todo $[0,3]$, es decir, que no \"explota\" antes de llegar a $x=3$. O sea, que $y(x)$ est\u00e1 acotada en todo $[0,3]$.\n",
      "\n",
      "1) Sea $y_1(x)$ la soluci\u00f3n del siguiente problema (en el que var\u00eda s\u00f3lo el dato inicial)\n",
      ">\\begin{align*}\n",
      "      &y'=y(y-x)(y-2), \\quad x\\in[0,3],\\\\\n",
      "      &y(0)=0.\n",
      "\\end{align*}\n",
      "\n",
      "Es muy f\u00e1cil comprobar que esta soluci\u00f3n es $y_1(x)=0$, definida en todo $[0,3]$.\n",
      "\n",
      "Como $y_1(0)=0 < 1=y(0)$, entonces $0=y_1(x) < y(x)$ para todo $x\\in[0,3]$. Por tanto, $y(x)$ est\u00e1 acotada inferiormente.\n",
      "\n",
      "2) Sea ahora $y_2(x)$ la soluci\u00f3n del siguiente problema (en el que var\u00eda s\u00f3lo el dato inicial)\n",
      ">\\begin{align*}\n",
      "      &y'=y(y-x)(y-2), \\quad x\\in[0,3],\\\\\n",
      "      &y(0)=2.\n",
      "\\end{align*}\n",
      "\n",
      "Es muy f\u00e1cil comprobar que esta soluci\u00f3n es $y_2(x)=2$, definida en todo $[0,3]$.\n",
      "\n",
      "Como $y(0)=1 < 2 = y_2(0)$, entonces $y(x) < y_2(x)=2$ para todo $x\\in[0,3]$. Por tanto, $y(x)$ est\u00e1 acotada, luego la \u00fanica soluci\u00f3n maximal est\u00e1 definida en todo $[0,3]$."
     ]
    },
    {
     "cell_type": "heading",
     "level": 3,
     "metadata": {},
     "source": [
      "2.- Aproximaci\u00f3n mediante `odeint`"
     ]
    },
    {
     "cell_type": "code",
     "collapsed": false,
     "input": [
      "def f(x,y): return y*(y-x)*(y-2)\n",
      "y_a = 1\n",
      "a, b = 0, 3\n",
      "h = 0.2"
     ],
     "language": "python",
     "metadata": {},
     "outputs": [],
     "prompt_number": 13
    },
    {
     "cell_type": "code",
     "collapsed": false,
     "input": [
      "def euler_mejorado(f, y_a, a, b, h):\n",
      "    \"\"\"Calcula la soluci\u00f3n de y'=f(t,y) mediante el m\u00e9t. Euler Mejorado\"\"\"\n",
      "    N = int( round((b-a)/h) )\n",
      "    \n",
      "    soporte = linspace(a, b, N+1)\n",
      "    sol = [y_a]\n",
      "    yn = y_a\n",
      "    for i in range(N): # i = 0, 1, ..., N-1\n",
      "        tn = soporte[i]\n",
      "        t1 = soporte[i+1]\n",
      "        k1 = yn + h*f(tn, yn)\n",
      "        yn1 = yn + h*f(t1,k1)\n",
      "        sol.append(yn1)\n",
      "        yn = yn1 # Actualizo yn para pr\u00f3xima iteraci\u00f3n\n",
      "    return soporte, sol\n",
      "\n",
      "soporte, sol_euler_mejorado = euler_mejorado(f, y_a, a, b, h)\n",
      "\n",
      "# soluci\u00f3n mediante python\n",
      "from scipy.integrate import odeint\n",
      "def func(y, t): return f(t, y)\n",
      "sol_python = odeint(func, y_a, soporte)\n",
      "\n",
      "plot(soporte, sol_python, label=u'Soluci\u00f3n python')\n",
      "plot(soporte, sol_euler_mejorado, 'o',  c='red',  label='Euler mejorado, paso ' + str(h))\n",
      "legend(loc='best')\n",
      "grid()"
     ],
     "language": "python",
     "metadata": {},
     "outputs": [],
     "prompt_number": "*"
    },
    {
     "cell_type": "heading",
     "level": 3,
     "metadata": {},
     "source": [
      "3.- Norma infinito de la diferencia"
     ]
    },
    {
     "cell_type": "markdown",
     "metadata": {},
     "source": [
      "La soluci\u00f3n aproximada, sol_euler_mejorado, es una lista (porque as\u00ed lo hemos programado):"
     ]
    },
    {
     "cell_type": "code",
     "collapsed": false,
     "input": [
      "sol_euler_mejorado"
     ],
     "language": "python",
     "metadata": {},
     "outputs": [],
     "prompt_number": "*"
    },
    {
     "cell_type": "markdown",
     "metadata": {},
     "source": [
      "Pero la soluci\u00f3n de Python, sol_python, es una matriz columna (porque as\u00ed est\u00e1 progamada la funci\u00f3n `odeint`):"
     ]
    },
    {
     "cell_type": "code",
     "collapsed": false,
     "input": [
      "sol_python"
     ],
     "language": "python",
     "metadata": {},
     "outputs": [
      {
       "metadata": {},
       "output_type": "pyout",
       "prompt_number": 16,
       "text": [
        "array([[ 1.        ],\n",
        "       [ 0.83880204],\n",
        "       [ 0.74564325],\n",
        "       [ 0.70471703],\n",
        "       [ 0.70443674],\n",
        "       [ 0.7378997 ],\n",
        "       [ 0.80091485],\n",
        "       [ 0.88998022],\n",
        "       [ 1.00077583],\n",
        "       [ 1.12746306],\n",
        "       [ 1.26288683],\n",
        "       [ 1.39939923],\n",
        "       [ 1.52979336],\n",
        "       [ 1.64799403],\n",
        "       [ 1.74948472],\n",
        "       [ 1.83161023]])"
       ]
      }
     ],
     "prompt_number": 16
    },
    {
     "cell_type": "markdown",
     "metadata": {},
     "source": [
      "Para poder restar estos dos objetos, los convertiremos en arrays 1-dimensionales (vectores)."
     ]
    },
    {
     "cell_type": "code",
     "collapsed": false,
     "input": [
      "# a) Convertimos la lista 'sol_euler_mejorado' en un array\n",
      "array_sol_em = array(sol_euler_mejorado)\n",
      "\n",
      "# b) Hacemos lo mismo con la matriz columna \n",
      "matriz_fila = sol_python.transpose() # Trasponemos la matriz columna\n",
      "array_sol_py = matriz_fila[0] # Extraemos la primera (y \u00fanica) fila de la matriz\n",
      "\n",
      "# Ahora podemos restar las dos\n",
      "array_sol_em - array_sol_py"
     ],
     "language": "python",
     "metadata": {},
     "outputs": [
      {
       "metadata": {},
       "output_type": "pyout",
       "prompt_number": 21,
       "text": [
        "array([ 0.        ,  0.04599796,  0.07360793,  0.08880056,  0.09727159,\n",
        "        0.1019655 ,  0.10364263,  0.10183679,  0.09578344,  0.08518159,\n",
        "        0.07055072,  0.05309556,  0.03431895,  0.01572027, -0.00130224,\n",
        "       -0.01548101])"
       ]
      }
     ],
     "prompt_number": 21
    },
    {
     "cell_type": "code",
     "collapsed": false,
     "input": [
      "# As\u00ed calculamos la diferencia en norma infinito:\n",
      "print \"Diferencia (norma infinito):\", max(abs(array_sol_em - array_sol_py))"
     ],
     "language": "python",
     "metadata": {},
     "outputs": [
      {
       "output_type": "stream",
       "stream": "stdout",
       "text": [
        "Diferencia (norma infinito): 0.103642634522\n"
       ]
      }
     ],
     "prompt_number": 27
    },
    {
     "cell_type": "code",
     "collapsed": false,
     "input": [],
     "language": "python",
     "metadata": {},
     "outputs": []
    }
   ],
   "metadata": {}
  }
 ]
}