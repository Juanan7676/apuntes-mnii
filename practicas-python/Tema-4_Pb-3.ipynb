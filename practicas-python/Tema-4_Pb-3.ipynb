{
 "metadata": {
  "name": "Tema-4_Pb-3"
 },
 "nbformat": 3,
 "nbformat_minor": 0,
 "worksheets": [
  {
   "cells": [
    {
     "cell_type": "heading",
     "level": 1,
     "metadata": {},
     "source": [
      "Problema 3 (tema 4)"
     ]
    },
    {
     "cell_type": "markdown",
     "metadata": {},
     "source": [
      "Consideremos el siguiente problema de valor inicial:\n",
      "\n",
      ">\\begin{align*}\n",
      "      &y'=\\frac{1}{16t^2} + y^2 -y + 4t(t+4) \\quad x\\in[1,20],\\\\\n",
      "      &y(1)=8,\n",
      "\\end{align*}\n",
      "\n",
      "cuya soluci\u00f3n exacta es:\n",
      ">$$ y(t) = 16t/(1+16t)+8t^2.$$\n",
      "\n",
      "Aproximar la soluci\u00f3n con $h=0.1$ usando:\n",
      "\n",
      "1. El m\u00e9todo de Euler.\n",
      "2. El m\u00e9todo de Euler-Cauchy (o Euler modificado).\n",
      "3. El m\u00e9todo de Euler mejorado."
     ]
    },
    {
     "cell_type": "code",
     "collapsed": false,
     "input": [
      "def f(t, y): return 1-y**2\n",
      "def sol_exacta(t): return (exp(2*t)-1)/(exp(2*t)+1)\n",
      "#def f(t, y): return 1/(16*t**2)* y**2 - y + 4*t*(t+4)\n",
      "a, b = 0, 5\n",
      "h = 0.5\n",
      "y_a = sol_exacta(a)\n",
      "y_a"
     ],
     "language": "python",
     "metadata": {},
     "outputs": [
      {
       "output_type": "pyout",
       "prompt_number": 33,
       "text": [
        "0.0"
       ]
      }
     ],
     "prompt_number": 33
    },
    {
     "cell_type": "code",
     "collapsed": false,
     "input": [
      "def euler(f, y_a, a, b, h):\n",
      "    \"\"\"Calcula la soluci\u00f3n de y'=f(t,y) mediante el m\u00e9t. Euler.\"\"\"\n",
      "    N = int( round((b-a)/h) )\n",
      "    \n",
      "    soporte = linspace(a, b, N+1)\n",
      "    sol = [y_a]\n",
      "    yn = y_a\n",
      "    for i in range(N): # i = 0, 1, ..., N-1\n",
      "        tn = soporte[i]\n",
      "        yn1 = yn + h * f(tn, yn) # M\u00e9todo de Euler\n",
      "        sol.append(yn1)\n",
      "        yn = yn1 # Actualizo yn para pr\u00f3xima iteraci\u00f3n\n",
      "    return soporte, sol\n",
      "\n",
      "soporte, sol_euler = euler(f, y_a, a, b, h)"
     ],
     "language": "python",
     "metadata": {},
     "outputs": [],
     "prompt_number": 34
    },
    {
     "cell_type": "code",
     "collapsed": false,
     "input": [
      "def euler_cauchy(f, y_a, a, b, h):\n",
      "    \"\"\"Calcula la soluci\u00f3n de y'=f(t,y) mediante el m\u00e9t. Euler-Cauchy\"\"\"\n",
      "    N = int( round((b-a)/h) )\n",
      "    \n",
      "    soporte = linspace(a, b, N+1)\n",
      "    sol = [y_a]\n",
      "    yn = y_a\n",
      "    for i in range(N): # i = 0, 1, ..., N-1\n",
      "        tn = soporte[i]\n",
      "        t1 = tn + h/2\n",
      "        k1 = yn + h/2 * f(tn, yn)\n",
      "        yn1 = yn + h*f(t1,k1)\n",
      "        sol.append(yn1)\n",
      "        yn = yn1 # Actualizo yn para pr\u00f3xima iteraci\u00f3n\n",
      "    return soporte, sol\n",
      "\n",
      "soporte, sol_euler_cauchy = euler_cauchy(f, y_a, a, b, h)"
     ],
     "language": "python",
     "metadata": {},
     "outputs": [],
     "prompt_number": 35
    },
    {
     "cell_type": "code",
     "collapsed": false,
     "input": [
      "def runge_kutta(f, y_a, a, b, h):\n",
      "    \"\"\"Calcula la soluci\u00f3n de y'=f(t,y) mediante el m\u00e9t. Euler-Cauchy\"\"\"\n",
      "    N = int( round((b-a)/h) )\n",
      "    \n",
      "    soporte = linspace(a, b, N+1)\n",
      "    sol = [y_a]\n",
      "    yn = y_a\n",
      "    for i in range(N): # i = 0, 1, ..., N-1\n",
      "        tn = soporte[i]\n",
      "        k1 = f(tn, yn)\n",
      "        k2 = f(tn + h/2, yn + h/2*k1)\n",
      "        k3 = f(tn + h/2, yn + h/2*k2)\n",
      "        k4 = f(tn + h, yn + h*k3)\n",
      "        yn = yn + h/6 * (k1 + 2*k2 + 2*k3 + k4) # R-K orden 4\n",
      "        sol.append(yn)\n",
      "    return soporte, sol\n",
      "\n",
      "soporte, sol_runge_kutta = runge_kutta(f, y_a, a, b, h)"
     ],
     "language": "python",
     "metadata": {},
     "outputs": [],
     "prompt_number": 36
    },
    {
     "cell_type": "code",
     "collapsed": false,
     "input": [
      "xx = linspace(a,b,100)\n",
      "plot(xx, sol_exacta(xx), label=u'Soluci\u00f3n exacta')\n",
      "plot(soporte, sol_euler, 'o', c='red',  label='Euler, paso ' + str(h))\n",
      "plot(soporte, sol_euler_cauchy, 'o', c='green',  label='Euler-Cauchy, paso ' + str(h))\n",
      "plot(soporte, sol_runge_kutta, 'o', c='magenta', label='Runge-Kutta, paso ' + str(h))\n",
      "legend(loc='best')\n",
      "ylim(0, 1.1) # Definir el intervalo para el eje y\n",
      "grid()"
     ],
     "language": "python",
     "metadata": {},
     "outputs": [
      {
       "output_type": "display_data",
       "png": "[encoded data removed]"
      }
     ],
     "prompt_number": 40
    },
    {
     "cell_type": "code",
     "collapsed": false,
     "input": [],
     "language": "python",
     "metadata": {},
     "outputs": [],
     "prompt_number": 37
    }
   ],
   "metadata": {}
  }
 ]
}