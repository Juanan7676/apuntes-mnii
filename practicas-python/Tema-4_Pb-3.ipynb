{
 "metadata": {
  "name": "",
  "signature": "sha256:db9824b2735a6d5fd1e9a4379f850b9089a556e5943ab961f87ad6c180ceeece"
 },
 "nbformat": 3,
 "nbformat_minor": 0,
 "worksheets": [
  {
   "cells": [
    {
     "cell_type": "heading",
     "level": 1,
     "metadata": {},
     "source": [
      "Problema 3 (tema 4)"
     ]
    },
    {
     "cell_type": "markdown",
     "metadata": {},
     "source": [
      "Consideremos el siguiente problema de valor inicial:\n",
      "\n",
      ">\\begin{align*}\n",
      "      &y'= 1-y^2 \\quad x\\in[0,5],\\\\\n",
      "      &y(0)=0,\n",
      "\\end{align*}\n",
      "\n",
      "Aproximar la soluci\u00f3n con $h=0.5$ usando:\n",
      "\n",
      "1. El m\u00e9todo de Runge Kutta.\n",
      "2. El m\u00e9todo de Euler-Cauchy.\n",
      "3. El m\u00e9todo de Euler.\n",
      "\n",
      "Sabiendo que la soluci\u00f3n exacta es $$y(t) = \\frac{e^{2t}-1}{e^{2t}+1},$$\n",
      "calcular los errores de discretizaci\u00f3n (para cada \u00fano de los m\u00e9todos)."
     ]
    },
    {
     "cell_type": "code",
     "collapsed": false,
     "input": [
      "f = lambda x,y: 1-y**2 # Otra forma de definir funciones \n",
      "\n",
      "a, b = 0, 5\n",
      "y_a = 0\n",
      "h = 0.5\n",
      "\n",
      "y_exacta = lambda t: (e**(2*t)-1)/(e**(2*t)+1) # Otra forma de definir funciones "
     ],
     "language": "python",
     "metadata": {},
     "outputs": [],
     "prompt_number": 3
    },
    {
     "cell_type": "code",
     "collapsed": false,
     "input": [
      "def runge_kutta(f, y_a, a, b, h):\n",
      "    N = int( round( (b-a)/h) )\n",
      "    soporte = linspace(a, b, N+1)\n",
      "    sol = [y_a]\n",
      "    yn = y_a\n",
      "    for i in range(N): # i = 0, 1, ..., N-1\n",
      "        tn = soporte[i]\n",
      "        k1 = f(tn, yn)\n",
      "        k2 = f(tn+h/2, yn + h/2 * k1)\n",
      "        k3 = f(tn+h/2, yn + h/2 * k2)\n",
      "        k4 = f(tn+h, yn + h * k3)\n",
      "        yn = yn + h/6 * (k1 + 2*k2 + 2*k3 + k4)\n",
      "        sol.append(yn)\n",
      "    return soporte, sol"
     ],
     "language": "python",
     "metadata": {},
     "outputs": [],
     "prompt_number": 4
    },
    {
     "cell_type": "code",
     "collapsed": false,
     "input": [
      "soporte, sol_rk = runge_kutta(f, y_a, a, b, h)"
     ],
     "language": "python",
     "metadata": {},
     "outputs": [],
     "prompt_number": 5
    },
    {
     "cell_type": "code",
     "collapsed": false,
     "input": [
      "def euler(f, y_a, a, b, h):\n",
      "    N = int( round( (b-a)/h) )\n",
      "    soporte = linspace(a, b, N+1)\n",
      "    sol = [y_a]\n",
      "    yn = y_a\n",
      "    for i in range(N): # i = 0, 1, ..., N-1\n",
      "        tn = soporte[i]\n",
      "        yn = yn + h*f(tn, yn)\n",
      "        sol.append(yn)\n",
      "    return soporte, sol\n",
      "soporte, sol_euler = euler(f, y_a, a, b, h)"
     ],
     "language": "python",
     "metadata": {},
     "outputs": [],
     "prompt_number": 6
    },
    {
     "cell_type": "code",
     "collapsed": false,
     "input": [
      "def euler_cauchy(f, y_a, a, b, h):\n",
      "    N = int( round( (b-a)/h) )\n",
      "    soporte = linspace(a, b, N+1)\n",
      "    sol = [y_a]\n",
      "    yn = y_a\n",
      "    for i in range(N): # i = 0, 1, ..., N-1\n",
      "        tn = soporte[i]\n",
      "        k1 = yn + h/2*f(tn+h/2, yn)\n",
      "        yn = yn + h*f(tn, k1)\n",
      "        sol.append(yn)\n",
      "    return soporte, sol\n",
      "soporte, sol_ec = euler_cauchy(f, y_a, a, b, h)"
     ],
     "language": "python",
     "metadata": {},
     "outputs": [],
     "prompt_number": 7
    },
    {
     "cell_type": "code",
     "collapsed": false,
     "input": [
      "# Soluci\u00f3n exacta\n",
      "soporte_fino = linspace(a, b, 200)\n",
      "plot(soporte_fino, y_exacta(soporte_fino))\n",
      "\n",
      "# Runge-Kutta\n",
      "plot(soporte, sol_rk, 'o', label='Runge-Kutta')\n",
      "\n",
      "# Euler-Cauchy\n",
      "plot(soporte, sol_ec, 'o', label='Euler-Cauchy')\n",
      "\n",
      "# Euler\n",
      "plot(soporte, sol_euler, 'o', label='Euler')\n",
      "\n",
      "ylim(-0.1, 1.1) # Intervalo para eje Y\n",
      "xlim(-0.2,5.5)\n",
      "axhline(c='black')\n",
      "axvline(c='black')\n",
      "grid()\n",
      "legend(loc='best')"
     ],
     "language": "python",
     "metadata": {},
     "outputs": [
      {
       "metadata": {},
       "output_type": "pyout",
       "prompt_number": 8,
       "text": [
        "<matplotlib.legend.Legend at 0x7fe839f1fb10>"
       ]
      },
      {
       "metadata": {},
       "output_type": "display_data",
       "png": "[encoded data removed]",
       "text": [
        "<matplotlib.figure.Figure at 0x7fe83a7e2d90>"
       ]
      }
     ],
     "prompt_number": 8
    },
    {
     "cell_type": "heading",
     "level": 3,
     "metadata": {},
     "source": [
      "Errores en norma infinito"
     ]
    },
    {
     "cell_type": "code",
     "collapsed": false,
     "input": [
      "# M\u00e1todo 1\n",
      "N = len(soporte)-1\n",
      "errores_euler = [ sol_euler[i] - y_exacta(soporte[i]) for i in range(N+1)]\n",
      "errores_euler"
     ],
     "language": "python",
     "metadata": {},
     "outputs": [
      {
       "metadata": {},
       "output_type": "pyout",
       "prompt_number": 9,
       "text": [
        "[0.0,\n",
        " 0.037882842739990263,\n",
        " 0.11340584404423504,\n",
        " 0.087039246355133604,\n",
        " 0.035941902346058097,\n",
        " 0.013385701382908399,\n",
        " 0.0049452463132695357,\n",
        " 0.0018221023888013166,\n",
        " 0.00067070026093296597,\n",
        " 0.00024678915197251516,\n",
        " 9.0795737404891774e-05]"
       ]
      }
     ],
     "prompt_number": 9
    },
    {
     "cell_type": "code",
     "collapsed": false,
     "input": [
      "# M\u00e9todo 2:\n",
      "errores_euler = array(sol_euler) - array(y_exacta(soporte))\n",
      "errores_euler"
     ],
     "language": "python",
     "metadata": {},
     "outputs": [
      {
       "metadata": {},
       "output_type": "pyout",
       "prompt_number": 14,
       "text": [
        "array([  0.00000000e+00,   3.78828427e-02,   1.13405844e-01,\n",
        "         8.70392464e-02,   3.59419023e-02,   1.33857014e-02,\n",
        "         4.94524631e-03,   1.82210239e-03,   6.70700261e-04,\n",
        "         2.46789152e-04,   9.07957374e-05])"
       ]
      }
     ],
     "prompt_number": 14
    },
    {
     "cell_type": "markdown",
     "metadata": {},
     "source": [
      "Igual para Runge-Kutta y Euler Cauchy"
     ]
    },
    {
     "cell_type": "code",
     "collapsed": false,
     "input": [],
     "language": "python",
     "metadata": {},
     "outputs": []
    }
   ],
   "metadata": {}
  }
 ]
}