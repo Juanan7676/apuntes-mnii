{
 "metadata": {
  "name": "Tema-4_Pb-5"
 },
 "nbformat": 3,
 "nbformat_minor": 0,
 "worksheets": [
  {
   "cells": [
    {
     "cell_type": "heading",
     "level": 1,
     "metadata": {},
     "source": [
      "Problema 5 (tema 4)"
     ]
    },
    {
     "cell_type": "markdown",
     "metadata": {},
     "source": [
      "Aproximar la soluci\u00f3n del problema de Cauchy\n",
      "\n",
      "$$\n",
      "y'=x^2 - \\sqrt{y-e^{x/2}}, \\quad x\\in[0,2], \\quad\n",
      "y(0)=5,\n",
      "$$\n",
      "con paso $h=0.1$, mediante:\n",
      "1. El m\u00e9todo de Adams--Bashforth de orden dos.\n",
      "2. El m\u00e9todo predictor-corrector $AB2$--$AM2$.\n",
      "\n",
      "Inicializar mediante un m\u00e9todo de un paso adecuado."
     ]
    },
    {
     "cell_type": "code",
     "collapsed": false,
     "input": [
      "def f(t, y): return t**2 - sqrt(y-exp(t/2))\n",
      "a, b = 0, 2\n",
      "h = 0.1\n",
      "y_a = 5"
     ],
     "language": "python",
     "metadata": {},
     "outputs": [],
     "prompt_number": 6
    },
    {
     "cell_type": "markdown",
     "metadata": {},
     "source": [
      "Como $AB2$ tiene orden dos, inicializamos mediante un m\u00e9todo de orden dos, por ejemplo Euler-Cauchy:"
     ]
    },
    {
     "cell_type": "code",
     "collapsed": false,
     "input": [
      "def AB2(f, y_a, a, b, h):\n",
      "    \"\"\"Calcula la soluci\u00f3n de y'=f(t,y) mediante el m\u00e9t. AB2.\"\"\"\n",
      "    N = int( round((b-a)/h) )\n",
      "    soporte = linspace(a, b, N+1)\n",
      "    \n",
      "    # (1) Inicializaci\u00f3n, por ejemplo Euler-Cauchy\n",
      "    sol = [y_a] # Almacenamos y_0\n",
      "    yn = y_a\n",
      "    for i in range(1): # S\u00f3lo daremos un paso en E-Cauchy, calculando y_1\n",
      "        tn = soporte[i]\n",
      "        k1 = yn + h/2 * f(tn, yn)\n",
      "        yn = yn + h*f(tn + h/2, k1) # E-Cauchy\n",
      "        sol.append(yn)\n",
      "        \n",
      "    # (2) Iteraciones de A-B\n",
      "    y0 = sol[0]; y1 = sol[0];\n",
      "    f0 = f(a, y0); f1 = f(a+h, y1);\n",
      "    for i in range(N-1): # i = 0, 1, ..., N-2\n",
      "        yn = yn + h/2 * (3*f1 + 3*f0)\n",
      "        sol.append(yn)\n",
      "        tn = soporte[i+1]\n",
      "        f0 = f1; f1 = f(tn, yn)\n",
      "    return soporte, sol\n",
      "\n",
      "soporte, sol_ab2 = AB2(f, y_a, a, b, h)"
     ],
     "language": "python",
     "metadata": {},
     "outputs": [],
     "prompt_number": 7
    },
    {
     "cell_type": "code",
     "collapsed": false,
     "input": [
      "#xx = linspace(a,b,100)\n",
      "#plot(xx, sol_exacta(xx), label=u'Soluci\u00f3n exacta')\n",
      "plot(soporte, sol_ab2, 'o', c='red',  label='AB2, paso ' + str(h))\n",
      "legend(loc='best')\n",
      "grid()"
     ],
     "language": "python",
     "metadata": {},
     "outputs": [
      {
       "output_type": "display_data",
       "png": "[encoded data removed]"
      }
     ],
     "prompt_number": 11
    },
    {
     "cell_type": "code",
     "collapsed": false,
     "input": [
      "sol_ab2"
     ],
     "language": "python",
     "metadata": {},
     "outputs": [
      {
       "output_type": "pyout",
       "prompt_number": 10,
       "text": [
        "[5,\n",
        " 4.8034078073817614,\n",
        " 4.2068366743756629,\n",
        " 3.6453068663278385,\n",
        " 3.1472811320000744,\n",
        " 2.7163552427385289,\n",
        " 2.3590940384517465,\n",
        " 2.0816633902167565,\n",
        " 1.8893167500728587,\n",
        " 1.7856363061306553,\n",
        " 1.77096764078493,\n",
        " 1.8396351489160239,\n",
        " 1.9780687056140092,\n",
        " 2.1698098873107812,\n",
        " 2.4046436038149426,\n",
        " 2.6807917748829859,\n",
        " 3.0008792606442367,\n",
        " 3.3688482927391359,\n",
        " 3.7889376865869169,\n",
        " 4.2654696152355562,\n",
        " 4.8028160729393585]"
       ]
      }
     ],
     "prompt_number": 10
    },
    {
     "cell_type": "code",
     "collapsed": false,
     "input": [],
     "language": "python",
     "metadata": {},
     "outputs": []
    }
   ],
   "metadata": {}
  }
 ]
}