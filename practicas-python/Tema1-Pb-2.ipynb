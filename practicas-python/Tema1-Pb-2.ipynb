{
 "metadata": {
  "name": ""
 },
 "nbformat": 3,
 "nbformat_minor": 0,
 "worksheets": [
  {
   "cells": [
    {
     "cell_type": "heading",
     "level": 1,
     "metadata": {},
     "source": [
      "Tema 1. Problema 2"
     ]
    },
    {
     "cell_type": "markdown",
     "metadata": {},
     "source": [
      "Utilizar el m\u00e9todo de bisecci\u00f3n para aproximar las ra\u00edces de las\n",
      "siguientes ecuaciones con una tolerancia menor que\n",
      "$\\varepsilon=10^{-8}$.\n"
     ]
    },
    {
     "cell_type": "markdown",
     "metadata": {},
     "source": [
      "**a)** $e^x-3x^2=0$"
     ]
    },
    {
     "cell_type": "heading",
     "level": 4,
     "metadata": {},
     "source": [
      "Existencia y localizaci\u00f3n de ceros:"
     ]
    },
    {
     "cell_type": "markdown",
     "metadata": {},
     "source": [
      "- Pintamos la gr\u00e1fica de la funci\u00f3n. Aparentemente existen tres ceros:"
     ]
    },
    {
     "cell_type": "code",
     "collapsed": false,
     "input": [
      "def f(x): return e**x-3*x**2\n",
      "xx = linspace(-2,4)\n",
      "plot(xx,f(xx),color=\"green\",linewidth=3)\n",
      "#legend(['f(x)'])\n",
      "from __future__ import unicode_literals # Tildes en el texto de las gr\u00e1ficas (usar codifiaci\u00f3n UTF8)\n",
      "title(\"Gr\u00e1fica de $f(x)=e^x-3x^2$\")\n",
      "grid()"
     ],
     "language": "python",
     "metadata": {},
     "outputs": [],
     "prompt_number": "*"
    },
    {
     "cell_type": "markdown",
     "metadata": {},
     "source": [
      "- Comprobamos que no hay m\u00e1s de tres ceros:\n",
      "  - $f(x) = e^x-3x^2$, derivable en $\\mathbb{R}$\n",
      "  - $f'(x)=e^x-6x$, derivable en $\\mathbb{R}$\n",
      "  - $f''(x)=e^x-6$\n",
      "  - Como $f''$ tiene un \u00fanico cero ($x=\\log(6)$), $f'$ tiene a lo sumo dos ceros y por tanto $f$ tiene tres ceros, como m\u00e1ximo"
     ]
    },
    {
     "cell_type": "heading",
     "level": 4,
     "metadata": {},
     "source": [
      "Utilizamos el teorema de Bolzano para localizar estos tres ceros:"
     ]
    },
    {
     "cell_type": "code",
     "collapsed": false,
     "input": [
      "# Bolzano:\n",
      "a1=-1\n",
      "b1 = 0\n",
      "print f(a1)*f(b1)\n",
      "a2 = 0.5\n",
      "b2 = 1.5\n",
      "print f(a2)*f(b2)\n",
      "a3=3\n",
      "b3=4\n",
      "print f(a3)*f(b3)"
     ],
     "language": "python",
     "metadata": {},
     "outputs": [
      {
       "output_type": "stream",
       "stream": "stdout",
       "text": [
        "-2.63212055883\n",
        "-2.03857928105\n",
        "-45.6226647794\n"
       ]
      }
     ],
     "prompt_number": 6
    },
    {
     "cell_type": "markdown",
     "metadata": {},
     "source": [
      "- Utilizamos el m\u00e9todo de bisecci\u00f3n para aproximar las ra\u00edces:"
     ]
    },
    {
     "cell_type": "code",
     "collapsed": false,
     "input": [
      "print biseccion(f, -1, 0, 1e-8)\n",
      "print biseccion(f, 0.5, 1.5, 1e-8)\n",
      "print biseccion(f, 3, 4, 1e-8)"
     ],
     "language": "python",
     "metadata": {},
     "outputs": [
      {
       "output_type": "stream",
       "stream": "stdout",
       "text": [
        "-0.458962269127\n",
        "0.910007573664\n",
        "3.73307902366\n"
       ]
      }
     ],
     "prompt_number": 7
    },
    {
     "cell_type": "markdown",
     "metadata": {},
     "source": [
      "- Podemos usar la funci\u00f3n *fsolve* de Python (concr\u00e9tamente del m\u00f3dulo *scipy.optimize*) como apoyo a los resultados. Por ejemplo, para el primer cero:"
     ]
    },
    {
     "cell_type": "code",
     "collapsed": false,
     "input": [
      "import scipy.optimize as opt\n",
      "print opt.fsolve(f, -1)  # Tomamos x=-1 como primera aproximaci\u00f3n"
     ],
     "language": "python",
     "metadata": {},
     "outputs": [
      {
       "output_type": "stream",
       "stream": "stdout",
       "text": [
        "[-0.45896227]\n"
       ]
      }
     ],
     "prompt_number": 8
    },
    {
     "cell_type": "markdown",
     "metadata": {},
     "source": [
      "Nota: *fsolve* resuelve sistemas de ecuaciones (en este caso una \u00fanica ecuaci\u00f3n). Devuelve una lista con las soluciones. V\u00e9ase la ayuda:"
     ]
    },
    {
     "cell_type": "code",
     "collapsed": false,
     "input": [
      "help(op.fsolve)"
     ],
     "language": "python",
     "metadata": {},
     "outputs": [
      {
       "output_type": "stream",
       "stream": "stdout",
       "text": [
        "Help on function fsolve in module scipy.optimize.minpack:\n",
        "\n",
        "fsolve(func, x0, args=(), fprime=None, full_output=0, col_deriv=0, xtol=1.49012e-08, maxfev=0, band=None, epsfcn=None, factor=100, diag=None)\n",
        "    Find the roots of a function.\n",
        "    \n",
        "    Return the roots of the (non-linear) equations defined by\n",
        "    ``func(x) = 0`` given a starting estimate.\n",
        "    \n",
        "    Parameters\n",
        "    ----------\n",
        "    func : callable ``f(x, *args)``\n",
        "        A function that takes at least one (possibly vector) argument.\n",
        "    x0 : ndarray\n",
        "        The starting estimate for the roots of ``func(x) = 0``.\n",
        "    args : tuple, optional\n",
        "        Any extra arguments to `func`.\n",
        "    fprime : callable(x), optional\n",
        "        A function to compute the Jacobian of `func` with derivatives\n",
        "        across the rows. By default, the Jacobian will be estimated.\n",
        "    full_output : bool, optional\n",
        "        If True, return optional outputs.\n",
        "    col_deriv : bool, optional\n",
        "        Specify whether the Jacobian function computes derivatives down\n",
        "        the columns (faster, because there is no transpose operation).\n",
        "    xtol : float\n",
        "        The calculation will terminate if the relative error between two\n",
        "        consecutive iterates is at most `xtol`.\n",
        "    maxfev : int, optional\n",
        "        The maximum number of calls to the function. If zero, then\n",
        "        ``100*(N+1)`` is the maximum where N is the number of elements\n",
        "        in `x0`.\n",
        "    band : tuple, optional\n",
        "        If set to a two-sequence containing the number of sub- and\n",
        "        super-diagonals within the band of the Jacobi matrix, the\n",
        "        Jacobi matrix is considered banded (only for ``fprime=None``).\n",
        "    epsfcn : float, optional\n",
        "        A suitable step length for the forward-difference\n",
        "        approximation of the Jacobian (for ``fprime=None``). If\n",
        "        `epsfcn` is less than the machine precision, it is assumed\n",
        "        that the relative errors in the functions are of the order of\n",
        "        the machine precision.\n",
        "    factor : float, optional\n",
        "        A parameter determining the initial step bound\n",
        "        (``factor * || diag * x||``).  Should be in the interval\n",
        "        ``(0.1, 100)``.\n",
        "    diag : sequence, optional\n",
        "        N positive entries that serve as a scale factors for the\n",
        "        variables.\n",
        "    \n",
        "    Returns\n",
        "    -------\n",
        "    x : ndarray\n",
        "        The solution (or the result of the last iteration for\n",
        "        an unsuccessful call).\n",
        "    infodict : dict\n",
        "        A dictionary of optional outputs with the keys:\n",
        "    \n",
        "          * 'nfev' : number of function calls\n",
        "          * 'njev' : number of Jacobian calls\n",
        "          * 'fvec' : function evaluated at the output\n",
        "          * 'fjac' : the orthogonal matrix, q, produced by the QR\n",
        "                    factorization of the final approximate Jacobian\n",
        "                    matrix, stored column wise\n",
        "          * 'r' : upper triangular matrix produced by QR factorization\n",
        "                  of the same matrix\n",
        "          * 'qtf': the vector ``(transpose(q) * fvec)``\n",
        "    \n",
        "    ier : int\n",
        "        An integer flag.  Set to 1 if a solution was found, otherwise refer\n",
        "        to `mesg` for more information.\n",
        "    mesg : str\n",
        "        If no solution is found, `mesg` details the cause of failure.\n",
        "    \n",
        "    See also\n",
        "    --------\n",
        "    root : Interface to root finding algorithms for multivariate\n",
        "           functions. See the 'hybr' `method` in particular.\n",
        "    \n",
        "    Notes\n",
        "    -----\n",
        "    ``fsolve`` is a wrapper around MINPACK's hybrd and hybrj algorithms.\n",
        "\n"
       ]
      }
     ],
     "prompt_number": 9
    },
    {
     "cell_type": "markdown",
     "metadata": {},
     "source": [
      "**b)**  $x^3=x^2+x+1$: Este apartado se resuelve de forma an\u00e1loga al anterior"
     ]
    },
    {
     "cell_type": "code",
     "collapsed": false,
     "input": [],
     "language": "python",
     "metadata": {},
     "outputs": []
    }
   ],
   "metadata": {}
  }
 ]
}