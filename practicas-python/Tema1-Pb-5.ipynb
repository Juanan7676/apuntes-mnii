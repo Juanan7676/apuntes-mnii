{
 "metadata": {
  "name": "Tema1-Pb-5"
 },
 "nbformat": 3,
 "nbformat_minor": 0,
 "worksheets": [
  {
   "cells": [
    {
     "cell_type": "heading",
     "level": 1,
     "metadata": {},
     "source": [
      "Tema 1. Problema 5"
     ]
    },
    {
     "cell_type": "markdown",
     "metadata": {},
     "source": [
      "Dada la ecuaci\u00f3n $f(x)=e^x-(x+1)^2=0$:\n",
      "1. Estudiar sus ra\u00edces reales\n",
      "2. Localizarlas en intervalos en los que el m\u00e9todo de Newton\n",
      "   est\u00e9 bien definido y sea convergente (idea: en cada intervalo,\n",
      "   aplicar la regla de Fourier)\n",
      "3. En cada uno de estos intervalos, calcular una aproximaci\u00f3n\n",
      "   de la ra\u00edz con un error menor a $10^{-6}$."
     ]
    },
    {
     "cell_type": "markdown",
     "metadata": {},
     "source": [
      "### 1. Localizaci\u00f3n de ra\u00edces"
     ]
    },
    {
     "cell_type": "code",
     "collapsed": false,
     "input": [
      "def f(x): return 2*exp(x) - (x+1)**2\n",
      "\n",
      "a, b = -2, -1\n",
      "x = linspace(a, b)\n",
      "plot(x, f(x), linewidth=3)\n",
      "axhline(c='black') # L\u00ednea negra en el eje x (AXis Horizontal LINE). Para que se vea mejor\n",
      "grid()"
     ],
     "language": "python",
     "metadata": {},
     "outputs": [
      {
       "output_type": "display_data",
       "png": "[encoded data removed]"
      }
     ],
     "prompt_number": 1
    },
    {
     "cell_type": "markdown",
     "metadata": {},
     "source": [
      "Aplicando el T. Bolzano podemos asegurar que existe una ra\u00edz en este intervalo:"
     ]
    },
    {
     "cell_type": "code",
     "collapsed": false,
     "input": [
      "print \"a = %f, f(a) = %f\" % (a, f(a))\n",
      "print \"b = %f, f(b) = %f\" % (b, f(b))"
     ],
     "language": "python",
     "metadata": {},
     "outputs": [
      {
       "output_type": "stream",
       "stream": "stdout",
       "text": [
        "a = -2.000000, f(a) = -0.729329\n",
        "b = -1.000000, f(b) = 0.735759\n"
       ]
      }
     ],
     "prompt_number": 2
    },
    {
     "cell_type": "markdown",
     "metadata": {},
     "source": [
      "Para **probar que no hay m\u00e1s ra\u00edces**, estudiamos el signo de $f'(x)$.\n",
      "\n",
      "$f'(x)=2e^x-2(x+1) = 2(e^x-(x+1))  \\ \\ge 0 \\  \\Leftrightarrow e^x \\ge (x+1)$. Dibujamos estas dos funciones:"
     ]
    },
    {
     "cell_type": "code",
     "collapsed": false,
     "input": [
      "x = linspace(-3, 2);\n",
      "axhline(c='black'); axvline(c='black') # Ejes de coordenadas\n",
      "plot(x, e**x, lw=3, c='seagreen', label=r\"$y=e^x$\")\n",
      "plot(x, x+1, \".\", lw=3, c='orange', label=r\"$y=x+1$\")\n",
      "legend()\n",
      "grid()"
     ],
     "language": "python",
     "metadata": {},
     "outputs": [
      {
       "output_type": "display_data",
       "png": "[encoded data removed]"
      }
     ],
     "prompt_number": 35
    },
    {
     "cell_type": "markdown",
     "metadata": {},
     "source": [
      "La **recta tangente** a $e^x$ en el punto $x_0=0$ es (seg\u00fan la ecuaci\u00f3n punto-pendiente en $(x_0,y_0)=(0,e^0)=(0,1)$): \n",
      "\n",
      "> $y=1+e^0(x-0)=1+x$.\n",
      "\n",
      "Como la funci\u00f3n $e^x$ queda siempre encima de la recta tangente (porque es convexa), est\u00e1 claro que $e^x \\ge x+1$."
     ]
    },
    {
     "cell_type": "markdown",
     "metadata": {},
     "source": [
      "### 2. Aplicamos la Regla de Fourier en $[-2,-1]$\n",
      "\n",
      "Tenemos que $f\\in C^2([-2,-1])$. Se deben cumplir las 3 primeras hip\u00f3tesis del Teorema de Convergencia del M\u00e9todo de Newton:\n",
      "\n",
      "* $(N_1)$: $f(a)f(b)<0$. Ya hemos visto que s\u00ed.\n",
      "* $(N_2)$: $f(x)\\neq 0$. Vimos que $f'(x)=2(e^x-(x+1)) = 0 \\ \\Leftrightarrow x=0$. Por tanto, $f'(x)\\neq 0$ en $[-2,-1]$.\n",
      "* $(N_3)$: $f''(x)\\le 0$ o $f''(x)\\ge 0$. En este caso, $f''(x)=2e^x-2=2(e^x-1)$. Cuando $x\\le 0$, $e^x<1$, luego $f''(x)<0$ en $[-2,-1]$.\n",
      "\n",
      "Como se cumplen estas tres hip\u00f3tesis, la Regla de Fourier nos garantiza el buen planteamiento y la convergencia del m\u00e9todo de Newton si escogemos $x_0=a$ o $x_0=b$ de forma que \n",
      "> $f(x_0) f''(x_0) \\ge 0$.\n",
      "En nuestro caso, como $f''(x)\\le 0$ en $[-2,-1]$, y $f(a)<0$, debemos tomar $x_0=a$."
     ]
    },
    {
     "cell_type": "markdown",
     "metadata": {},
     "source": [
      "### 3. Calculamos la ra\u00edz"
     ]
    },
    {
     "cell_type": "code",
     "collapsed": false,
     "input": [
      "def newton(f, df, x0, tol, max_iters = 100):\n",
      "    \"\"\"Calcula una ra\u00edz de $f(x)=0$ mediante el m\u00e9todo de Newton, a partir de x0.\n",
      "    Devuelve una lista con la soluci\u00f3n y el n\u00famero de iteraciones\"\"\"\n",
      "    \n",
      "    iter = 0\n",
      "    while iter<max_iters:\n",
      "        x1 = x0 - f(x0)/df(x0) # Punto fijo en Newton\n",
      "        if abs(x1-x0) < tol:\n",
      "            return x1, iter # Devolvemos la soluci\u00f3n y el n\u00famero de iteraciones\n",
      "        x0 = x1\n",
      "        iter = iter+1\n",
      "    print \"Error de convergencia\"\n"
     ],
     "language": "python",
     "metadata": {},
     "outputs": [],
     "prompt_number": 4
    },
    {
     "cell_type": "markdown",
     "metadata": {},
     "source": [
      "Utilizando el algoritmo de Newton, podemos realizar iteraciones, calculando aproximaciones\n",
      "$x_k$ hasta que $|x_{k+1}-x_{k}|<10^{-6}$:"
     ]
    },
    {
     "cell_type": "code",
     "collapsed": false,
     "input": [
      "def df(x): return 2*(exp(x) - (x+1))\n",
      "x = newton(f, df, -2, 1e-6)\n",
      "print x"
     ],
     "language": "python",
     "metadata": {},
     "outputs": [
      {
       "output_type": "stream",
       "stream": "stdout",
       "text": [
        "(-1.6269438314175189, 3)\n"
       ]
      }
     ],
     "prompt_number": 5
    },
    {
     "cell_type": "markdown",
     "metadata": {},
     "source": [
      "Pero lo anterior no nos garantiza que el error $|x_{k+1}-\\alpha|$, donde $\\alpha$ es la soluci\u00f3n exacta, sea menor que $10^{-6}$. Para poder asegurar que sea as\u00ed, utilizamos la siguiente cota a posteriori:\n",
      "> $|x_{k+1}-\\alpha| \\le \\displaystyle\\frac{M''}{2m'}|x_{k+1}-x_k|$, $\\qquad (1)$"
     ]
    },
    {
     "cell_type": "markdown",
     "metadata": {},
     "source": [
      "donde $m'$ es el m\u00ednimo de $|f'(x)|$ en $[-2,-1]$ y $M''$ es el m\u00e1ximo de $|f''(x)|$. \n",
      "\n",
      "* $f'$ es decreciente (porque $f''(x)<0$ en $[-2,-1]$), luego el m\u00e1ximo de $|'f'(x)|$ se alcanza en $a$ o en $b$.\n",
      "* $f''$ es creciente ($f''(x)=2e^x-2$, luego $f'''(x)=2e^x>0$), por tanto $f''$ es creciente $|f''(x)|$ se alcanza en $a$ o en $b$.\n",
      "\n",
      "Calculamos la constante $C=\\displaystyle\\frac{M''}{2m'}$:"
     ]
    },
    {
     "cell_type": "code",
     "collapsed": false,
     "input": [
      "def df2(x): return 2*exp(x)-2\n",
      "\n",
      "m1 = max( abs(df(a)), abs(df(b)) )\n",
      "M2 = max( abs(df2(a)), abs(df2(b)) )\n",
      "C = M2/(2*m1)\n",
      "print m1, M2, C"
     ],
     "language": "python",
     "metadata": {},
     "outputs": [
      {
       "output_type": "stream",
       "stream": "stdout",
       "text": [
        "2.27067056647 1.72932943353 0.380797077978\n"
       ]
      }
     ],
     "prompt_number": 6
    },
    {
     "cell_type": "markdown",
     "metadata": {},
     "source": [
      "Para poder asegurar que \n",
      "$|x_{k+1}-\\alpha|<10^{-6}$ es suficiente, seg\u00fan la desigualdad $(1)$ anterior, que $C\\cdot |x_{k+1}-x_k|<10^{-6}$, es decir que  $|x_{k+1}-x_k|< \\delta := 10^{-6}/C$"
     ]
    },
    {
     "cell_type": "code",
     "collapsed": false,
     "input": [
      "delta = 1e-6/C\n",
      "print \"delta =\", delta\n"
     ],
     "language": "python",
     "metadata": {},
     "outputs": [
      {
       "output_type": "stream",
       "stream": "stdout",
       "text": [
        "delta = 2.626070571e-06\n"
       ]
      }
     ],
     "prompt_number": 7
    },
    {
     "cell_type": "code",
     "collapsed": false,
     "input": [
      "# Realizamos iteraciones hasta que $|x_{k+1}-x_{k}|< \\delta$:\n",
      "x = newton(f, df, -2, delta)\n",
      "print x"
     ],
     "language": "python",
     "metadata": {},
     "outputs": [
      {
       "output_type": "stream",
       "stream": "stdout",
       "text": [
        "(-1.6269438314175189, 3)\n"
       ]
      }
     ],
     "prompt_number": 8
    },
    {
     "cell_type": "code",
     "collapsed": false,
     "input": [],
     "language": "python",
     "metadata": {},
     "outputs": [],
     "prompt_number": 8
    }
   ],
   "metadata": {}
  }
 ]
}