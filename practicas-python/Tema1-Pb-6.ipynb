{
 "metadata": {
  "name": "Tema1-Pb-6"
 },
 "nbformat": 3,
 "nbformat_minor": 0,
 "worksheets": [
  {
   "cells": [
    {
     "cell_type": "heading",
     "level": 1,
     "metadata": {},
     "source": [
      "Tema 1. Problema 6"
     ]
    },
    {
     "cell_type": "markdown",
     "metadata": {},
     "source": [
      "Calcular mediante el m\u00e9todo de Newton las raices de $f(x)=2\\sqrt{x}-\\frac{x^3+5}{5}$ en $[0.1,1]$ realizando iteraciones hasta que la diferencia en dos etapas consecutivas sea menor que $10^{-10}$. \u00bfConverge el m\u00e9todo si partes del punto medio del intervalo? Justif\u00edcalo geom\u00e9tricamente. \u00bfY desde los extremos? Justif\u00edcalo mediante la Regla de Fourier."
     ]
    },
    {
     "cell_type": "code",
     "collapsed": false,
     "input": [
      "def f(x): return 2*sqrt(x) - (x**3+5)/5\n",
      "def df(x): return  1/sqrt(x) - 3*x**2/5 # Funci\u00f3n derivada, para luego usar el m\u00e9todo de Newton\n",
      "\n",
      "a, b = 0.1, 1\n",
      "x=linspace(a,b)\n",
      "axhline(c='k')\n",
      "plot (x,f(x))\n",
      "grid()"
     ],
     "language": "python",
     "metadata": {},
     "outputs": [
      {
       "output_type": "display_data",
       "png": "[encoded data removed]"
      }
     ],
     "prompt_number": 178
    },
    {
     "cell_type": "code",
     "collapsed": false,
     "input": [
      "def newton(f, df, x0, tol, max_iters = 100):\n",
      "    \"\"\"Calcula una ra\u00edz de $f(x)=0$ mediante el m\u00e9todo de Newton, a partir de x0\"\"\"\n",
      "    \n",
      "    iter = 0\n",
      "    while iter<max_iters:\n",
      "        x1 = x0 - f(x0)/df(x0) # Punto fijo en Newton\n",
      "        #print x1\n",
      "        if abs(x1-x0) < tol:\n",
      "            return (x1, iter)\n",
      "        x0 = x1\n",
      "        iter = iter+1\n",
      "    print \"Error de convergencia\""
     ],
     "language": "python",
     "metadata": {},
     "outputs": [],
     "prompt_number": 193
    },
    {
     "cell_type": "code",
     "collapsed": false,
     "input": [
      "x0=(b-a)/2.0 # Punto medio\n",
      "print \"x0 =\", x0\n",
      "print newton(f, df, x0, tol=1e-10)"
     ],
     "language": "python",
     "metadata": {},
     "outputs": [
      {
       "output_type": "stream",
       "stream": "stdout",
       "text": [
        "x0 = 0.45\n",
        "0.213794218833\n",
        "0.249946770437\n",
        "0.251592167862\n",
        "0.251595136414\n",
        "0.251595136423\n",
        "(0.25159513642324149, 4)\n"
       ]
      }
     ],
     "prompt_number": 190
    },
    {
     "cell_type": "markdown",
     "metadata": {},
     "source": [
      "El m\u00e9todo de Newton converge para la inicializaci\u00f3n $x_0=\\frac{b-a}{2}$ porque la primera iteraci\u00f3n cae en el intervalo $[a,\\alpha]$ (donde $\\alpha$ es el cero de la funci\u00f3n) y a partir de ah\u00ed la sucesi\u00f3n converge mon\u00f3tonamente hacia la soluci\u00f3n."
     ]
    },
    {
     "cell_type": "code",
     "collapsed": false,
     "input": [
      "x0=a\n",
      "print \"x0 =\", x0\n",
      "print newton(f, df, x0, tol=1e-10)"
     ],
     "language": "python",
     "metadata": {},
     "outputs": [
      {
       "output_type": "stream",
       "stream": "stdout",
       "text": [
        "x0 = 0.1\n",
        "0.216512077694\n",
        "0.250181690201\n",
        "0.251592954393\n",
        "0.251595136418\n",
        "0.251595136423\n",
        "(0.25159513642324155, 4)\n"
       ]
      }
     ],
     "prompt_number": 191
    },
    {
     "cell_type": "markdown",
     "metadata": {},
     "source": [
      "El m\u00e9todo de Newton converge porque $f(a)<0$ y $f''(a)<0$."
     ]
    },
    {
     "cell_type": "code",
     "collapsed": false,
     "input": [
      "x0=b\n",
      "print \"x0 =\", x0\n",
      "print newton(f, df, x0, tol=1e-10)"
     ],
     "language": "python",
     "metadata": {},
     "outputs": [
      {
       "output_type": "stream",
       "stream": "stdout",
       "text": [
        "x0 = 1\n",
        "(0.0, 1)\n"
       ]
      }
     ],
     "prompt_number": 197
    },
    {
     "cell_type": "markdown",
     "metadata": {},
     "source": [
      "La regla de Fourier no garantiza la convergencia para $x_0=b$ porque $f(b)>0$ y $f''(b)<0$."
     ]
    },
    {
     "cell_type": "code",
     "collapsed": false,
     "input": [],
     "language": "python",
     "metadata": {},
     "outputs": []
    }
   ],
   "metadata": {}
  }
 ]
}