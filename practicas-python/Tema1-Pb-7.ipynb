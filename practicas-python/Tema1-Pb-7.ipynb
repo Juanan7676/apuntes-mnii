{
 "metadata": {
  "name": "Tema1-Pb-7"
 },
 "nbformat": 3,
 "nbformat_minor": 0,
 "worksheets": [
  {
   "cells": [
    {
     "cell_type": "heading",
     "level": 1,
     "metadata": {},
     "source": [
      "Tema 1. Problema 7"
     ]
    },
    {
     "cell_type": "markdown",
     "metadata": {},
     "source": [
      "Sea $f(x)=x^3-x^2-x+1$.\n",
      "\n",
      "1. Comprobar gr\u00e1ficamente que $f$ tiene dos ceros\n",
      "1. Calcular el primer cero de $f$ mediante el m\u00e9todo de la secante (inicializ\u00e1ndolo con un intervalo apropiado) con tolerancia $10^{-10}$. \u00bfQu\u00e9 ocurre si intentamos aproximar el segundo cero? \u00bfY si se usa una tolerancia menor?\n",
      "2. Calcular los dos ceros de $f$ mediante el m\u00e9todo de regula-falsi, tal y como en el apartado anterior. "
     ]
    },
    {
     "cell_type": "code",
     "collapsed": false,
     "input": [
      "def f(x): return x**3-x**2-x+1\n",
      "\n",
      "x = linspace(-1.5,2)\n",
      "axhline(c='k')\n",
      "plot(x,f(x))\n",
      "grid()"
     ],
     "language": "python",
     "metadata": {},
     "outputs": [
      {
       "output_type": "display_data",
       "png": "[encoded data removed]"
      }
     ],
     "prompt_number": 217
    },
    {
     "cell_type": "markdown",
     "metadata": {},
     "source": [
      "## 1.- M\u00e9todo de la secante"
     ]
    },
    {
     "cell_type": "code",
     "collapsed": false,
     "input": [
      "def secante(f, x0, x1, tol=1e-10, maxIters=100, verb=False):\n",
      "    iter = 0\n",
      "    diferencia = tol # Nos aseguramos de entrar en el bucle\n",
      "    while diferencia >= tol and iter < maxIters:\n",
      "        # M\u00e9todo de la secante\n",
      "        x2 = x1 - f(x1)* (x1-x0)/(f(x1)-f(x0))\n",
      "        # Preparar siguiente iteraci\u00f3n\n",
      "        diferencia = abs(x1 - x0)\n",
      "        x0 = x1\n",
      "        x1 = x2\n",
      "        iter = iter + 1        \n",
      "        # Mostrar informaci\u00f3n (si se seleccion\u00f3 el modo verboso)\n",
      "        if verb:\n",
      "            print \"Iter %d, x_%d=%1.10g, dif=%g\" % (iter, iter, x2, diferencia)\n",
      "    return x2, iter\n"
     ],
     "language": "python",
     "metadata": {},
     "outputs": [],
     "prompt_number": 204
    },
    {
     "cell_type": "markdown",
     "metadata": {},
     "source": [
      "#### Primer cero"
     ]
    },
    {
     "cell_type": "code",
     "collapsed": false,
     "input": [
      "x0 = -1.5\n",
      "x1 = -0.5\n",
      "print secante(f, x0, x1)"
     ],
     "language": "python",
     "metadata": {},
     "outputs": [
      {
       "output_type": "stream",
       "stream": "stdout",
       "text": [
        "(-1.0, 10)\n"
       ]
      }
     ],
     "prompt_number": 211
    },
    {
     "cell_type": "markdown",
     "metadata": {},
     "source": [
      "#### Segundo cero"
     ]
    },
    {
     "cell_type": "code",
     "collapsed": false,
     "input": [
      "x0 = 0.5\n",
      "x1 = 2\n",
      "print secante(f, x0, x1, 1e-6, verb=True)"
     ],
     "language": "python",
     "metadata": {},
     "outputs": [
      {
       "output_type": "stream",
       "stream": "stdout",
       "text": [
        "Iter 1, x_1=0.2857142857, dif=1.5\n",
        "Iter 2, x_2=-0.1940298507, dif=1.71429\n",
        "Iter 3, x_3=0.9239224186, dif=0.479744\n",
        "Iter 4, x_4=0.9348620828, dif=1.11795\n",
        "Iter 5, x_5=0.9655582201, dif=0.0109397\n",
        "Iter 6, x_6=0.9777346051, dif=0.0306961\n",
        "Iter 7, x_7=0.9865703022, dif=0.0121764\n",
        "Iter 8, x_8=0.9916585804, dif=0.0088357\n",
        "Iter 9, x_9=0.9948678737, dif=0.00508828\n",
        "Iter 10, x_10=0.9968277943, dif=0.00320929\n",
        "Iter 11, x_11=0.9980414859, dif=0.00195992\n",
        "Iter 12, x_12=0.9987898305, dif=0.00121369\n",
        "Iter 13, x_13=0.9992522931, dif=0.000748345\n",
        "Iter 14, x_14=0.9995379469, dif=0.000462463\n",
        "Iter 15, x_15=0.9997144633, dif=0.000285654\n",
        "Iter 16, x_16=0.9998235376, dif=0.000176516\n",
        "Iter 17, x_17=0.9998909441, dif=0.000109074\n",
        "Iter 18, x_18=0.9999326011, dif=6.74065e-05\n",
        "Iter 19, x_19=0.9999583457, dif=4.1657e-05\n",
        "Iter 20, x_20=0.9999742564, dif=2.57446e-05\n",
        "Iter 21, x_21=0.9999840897, dif=1.59107e-05\n",
        "Iter 22, x_22=0.9999901669, dif=9.83324e-06\n",
        "Iter 23, x_23=0.9999939228, dif=6.07723e-06\n",
        "Iter 24, x_24=0.9999962441, dif=3.75591e-06\n",
        "Iter 25, x_25=0.9999976787, dif=2.32127e-06\n",
        "Iter 26, x_26=0.9999985654, dif=1.43463e-06\n",
        "Iter 27, x_27=0.9999991134, dif=8.86653e-07\n",
        "(0.9999991133601814, 27)\n"
       ]
      }
     ],
     "prompt_number": 227
    },
    {
     "cell_type": "markdown",
     "metadata": {},
     "source": [
      "## 2.- Regula falsi"
     ]
    },
    {
     "cell_type": "code",
     "collapsed": false,
     "input": [
      "def regula_falsi(f, a, b, tol=1e-10, maxIters=100, verb=False):\n",
      "    # Realizar iteraciones\n",
      "    iter = 0\n",
      "    diferencia = tol # Nos aseguramos de entrar en el bucle\n",
      "    fa = f(a); fb=f(b);\n",
      "    while diferencia>=tol and iter < maxIters:\n",
      "        # Mostrar informaci\u00f3n (si se seleccionado el modo verboso)\n",
      "        if verb: print \"Iter\", iter, \", [a, b] = [\", a, \", \", b,\n",
      "        # Calcular el punto medio\n",
      "        c = b - f(b)*(b-a)/(f(b)-f(a)); fc = f(c)\n",
      "        diferencia = min(b-c, c-a)\n",
      "        if verb: print \"], dif =\", diferencia\n",
      "        # Calcular el nuevo subintervalo e iterar\n",
      "        if fa*fc < 0:\n",
      "            b=c; fb=fc; \n",
      "        else:\n",
      "            a=c; fa=fc  \n",
      "        iter = iter + 1\n",
      "    return c, fc, iter\n",
      "\n"
     ],
     "language": "python",
     "metadata": {},
     "outputs": [],
     "prompt_number": 222
    },
    {
     "cell_type": "markdown",
     "metadata": {},
     "source": [
      "#### Primer cero"
     ]
    },
    {
     "cell_type": "code",
     "collapsed": false,
     "input": [
      "x0 = -1.5\n",
      "x1 = -0.5\n",
      "print regula_falsi(f, x0, x1)"
     ],
     "language": "python",
     "metadata": {},
     "outputs": [
      {
       "output_type": "stream",
       "stream": "stdout",
       "text": [
        "(-0.9999999999503102, 1.9875923129575312e-10, 23)\n"
       ]
      }
     ],
     "prompt_number": 223
    },
    {
     "cell_type": "markdown",
     "metadata": {},
     "source": [
      "#### Segundo cero"
     ]
    },
    {
     "cell_type": "code",
     "collapsed": false,
     "input": [
      "x0 = 0.5\n",
      "x1 = 2\n",
      "print secante(f, x0, x1, 1e-6, verb=True)"
     ],
     "language": "python",
     "metadata": {},
     "outputs": [
      {
       "output_type": "stream",
       "stream": "stdout",
       "text": [
        "Iter 1, x_1=0.2857142857, dif=1.5\n",
        "Iter 2, x_2=-0.1940298507, dif=1.71429\n",
        "Iter 3, x_3=0.9239224186, dif=0.479744\n",
        "Iter 4, x_4=0.9348620828, dif=1.11795\n",
        "Iter 5, x_5=0.9655582201, dif=0.0109397\n",
        "Iter 6, x_6=0.9777346051, dif=0.0306961\n",
        "Iter 7, x_7=0.9865703022, dif=0.0121764\n",
        "Iter 8, x_8=0.9916585804, dif=0.0088357\n",
        "Iter 9, x_9=0.9948678737, dif=0.00508828\n",
        "Iter 10, x_10=0.9968277943, dif=0.00320929\n",
        "Iter 11, x_11=0.9980414859, dif=0.00195992\n",
        "Iter 12, x_12=0.9987898305, dif=0.00121369\n",
        "Iter 13, x_13=0.9992522931, dif=0.000748345\n",
        "Iter 14, x_14=0.9995379469, dif=0.000462463\n",
        "Iter 15, x_15=0.9997144633, dif=0.000285654\n",
        "Iter 16, x_16=0.9998235376, dif=0.000176516\n",
        "Iter 17, x_17=0.9998909441, dif=0.000109074\n",
        "Iter 18, x_18=0.9999326011, dif=6.74065e-05\n",
        "Iter 19, x_19=0.9999583457, dif=4.1657e-05\n",
        "Iter 20, x_20=0.9999742564, dif=2.57446e-05\n",
        "Iter 21, x_21=0.9999840897, dif=1.59107e-05\n",
        "Iter 22, x_22=0.9999901669, dif=9.83324e-06\n",
        "Iter 23, x_23=0.9999939228, dif=6.07723e-06\n",
        "Iter 24, x_24=0.9999962441, dif=3.75591e-06\n",
        "Iter 25, x_25=0.9999976787, dif=2.32127e-06\n",
        "Iter 26, x_26=0.9999985654, dif=1.43463e-06\n",
        "Iter 27, x_27=0.9999991134, dif=8.86653e-07\n",
        "(0.9999991133601814, 27)\n"
       ]
      }
     ],
     "prompt_number": 228
    },
    {
     "cell_type": "code",
     "collapsed": false,
     "input": [],
     "language": "python",
     "metadata": {},
     "outputs": []
    }
   ],
   "metadata": {}
  }
 ]
}