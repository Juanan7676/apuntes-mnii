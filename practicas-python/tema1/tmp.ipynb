{
 "metadata": {
  "name": "Problema-4"
 },
 "nbformat": 3,
 "nbformat_minor": 0,
 "worksheets": [
  {
   "cells": [
    {
     "cell_type": "heading",
     "level": 1,
     "metadata": {},
     "source": [
      "Problema 4"
     ]
    },
    {
     "cell_type": "markdown",
     "metadata": {},
     "source": [
      "Consideremos el problema de punto fijo $x=g(x)$, con \n",
      "\n",
      "> $$g(x)=\\frac{1}{2+x}.$$  \n",
      "\n",
      "Probar que existe una \u00fanica soluci\u00f3n en el intervalo $[0,1]$ y que m\u00e9todo de aproximaciones sucesivas $x_{k+1}=g(x_k)$ converge hacia una soluci\u00f3n para cualquier inicializaci\u00f3n, $x_0\\in[0,1]$. Aproximar la soluci\u00f3n con un error menor que $\\varepsilon=10^{-8}$."
     ]
    },
    {
     "cell_type": "markdown",
     "metadata": {},
     "source": [
      "Veamos que $g$ est\u00e1 en las hip\u00f3tesis del teorema de punto fijo en $[0,1]$ (lo que implica la existencia de un \u00fanico punto fijo al que converge el m\u00e9todo de aproximaciones sucesivas).\n",
      "\n",
      "### Hi\u1e55\u00f3tesis 1: $g([0,1])\\subset [0,1]$:\n",
      "\n",
      "* Es f\u00e1cil ver que $g$ es decreciente en $[0,1]$, pues es derivable en todo este intervalo y $g'(x)=\\frac{-1}{(2+x)^2}$\n",
      "* Por lo tanto basta ver que $g(0)\\in [0,1]$ y $g(1)\\in [0,1]$:"
     ]
    },
    {
     "cell_type": "code",
     "collapsed": false,
     "input": [
      "def g(x): return 1./(2+x)\n",
      "print g(0)\n",
      "print g(1)"
     ],
     "language": "python",
     "metadata": {},
     "outputs": [
      {
       "output_type": "stream",
       "stream": "stdout",
       "text": [
        "0.5\n",
        "0.333333333333\n"
       ]
      }
     ],
     "prompt_number": 2
    },
    {
     "cell_type": "markdown",
     "metadata": {},
     "source": [
      "### Hip\u00f3tesis 2: $|g(x)|<1$ para todo $x\\in [0,1]$"
     ]
    },
    {
     "cell_type": "markdown",
     "metadata": {},
     "source": [
      "En realidad es f\u00e1cil ver que $|g(x)|<1$ para todo $x\\in [0,+\\infty)$: Si $x\\ge 0$, tenemos $2+x \\ge 2$ y as\u00ed $g(x)=\\frac{1}{2+x} \\le \\frac{1}{2} < 1$."
     ]
    },
    {
     "cell_type": "markdown",
     "metadata": {},
     "source": [
      "### Aproximaci\u00f3n de la soluci\u00f3n:"
     ]
    },
    {
     "cell_type": "code",
     "collapsed": false,
     "input": [
      "def punto_fijo(g, x0, tol=1e-10, maxIters=100, verb=False):\n",
      "    \"\"\"Calcula un punto fijo de $g$ partiendo de x0\n",
      "    \n",
      "    Args:\n",
      "       g: Funci\u00f3n\n",
      "       x0: Inicializaci\u00f3n del m\u00e9todo de aproximaciones sucesivas\n",
      "       tol: Tolerancia (fin si $|x_{n+1}-x_n|$<tol)\n",
      "       maxIters: N\u00famero m\u00e1ximo de iteraciones permitidas\n",
      "       verb: Modo verboso activo/inactivob\n",
      "\n",
      "    Returns:\n",
      "       c: Aproximaci\u00f3n del cero de $f$\n",
      "       iter: N\u00famero de iteraciones realizadas\n",
      "    \"\"\"\n",
      "    iter = 0\n",
      "    diferencia = tol # Nos aseguramos de entrar en el bucle\n",
      "    while diferencia >= tol and iter < maxIters:\n",
      "        # M\u00e9todo de aproximaciones sucesivas\n",
      "        x1 = g(x0)\n",
      "        # Preparar siguiente iteraci\u00f3n\n",
      "        diferencia = abs(x1 - x0)\n",
      "        x0 = x1\n",
      "        iter = iter + 1        \n",
      "        # Mostrar informaci\u00f3n (si se seleccion\u00f3 el modo verboso)\n",
      "        if verb: \n",
      "            print \"Iter\", iter, \", x1 =\", x1, \", diferencia =\", diferencia\n",
      "    return x1, iter\n",
      "\n",
      "solucion = punto_fijo(g, 0.5, 1e-8)\n",
      "print \"Aproximaci\u00f3n, n\u00famero de iteraciones = \", solucion"
     ],
     "language": "python",
     "metadata": {},
     "outputs": [
      {
       "output_type": "stream",
       "stream": "stdout",
       "text": [
        "Aproximaci\u00f3n, n\u00famero de iteraciones =  (0.4142135620573205, 11)\n"
       ]
      }
     ],
     "prompt_number": 4
    },
    {
     "cell_type": "code",
     "collapsed": false,
     "input": [],
     "language": "python",
     "metadata": {},
     "outputs": []
    }
   ],
   "metadata": {}
  }
 ]
}