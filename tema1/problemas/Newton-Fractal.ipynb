{
 "metadata": {
  "name": "2014-03-27-125956"
 },
 "nbformat": 3,
 "nbformat_minor": 0,
 "worksheets": [
  {
   "cells": [
    {
     "cell_type": "code",
     "collapsed": false,
     "input": "# Newton fractals\n# FB - 201003291\nfrom PIL import Image\nimgx = 512\nimgy = 512\nimage = Image.new(\"RGB\", (imgx, imgy))\n\n# drawing area\nxa = -1.0\nxb = 1.0\nya = -1.0\nyb = 1.0\n\nmaxIt = 20 # max iterations allowed\nh = 1e-6 # step size for numerical derivative\neps = 1e-3 # max error allowed\n\n# put any complex function here to generate a fractal for it!\ndef f(z):\n    return z * z * z - 1.0\n\n# draw the fractal\nfor y in range(imgy):\n    zy = y * (yb - ya) / (imgy - 1) + ya\n    for x in range(imgx):\n        zx = x * (xb - xa) / (imgx - 1) + xa\n        z = complex(zx, zy)\n        for i in range(maxIt):\n            # complex numerical derivative\n            dz = (f(z + complex(h, h)) - f(z)) / complex(h, h)\n            z0 = z - f(z) / dz # Newton iteration\n            if abs(z0 - z) < eps: # stop when close enough to any root\n                break\n            z = z0\n        image.putpixel((x, y), (i % 4 * 64, i % 8 * 32, i % 16 * 16))\n\nimage.save(\"newtonFr.png\", \"PNG\")",
     "language": "python",
     "metadata": {},
     "outputs": []
    }
   ],
   "metadata": {}
  }
 ]
}