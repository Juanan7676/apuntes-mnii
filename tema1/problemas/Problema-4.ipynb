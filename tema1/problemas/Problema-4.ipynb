{
 "metadata": {
  "name": "Problema-4"
 },
 "nbformat": 3,
 "nbformat_minor": 0,
 "worksheets": [
  {
   "cells": [
    {
     "cell_type": "markdown",
     "metadata": {},
     "source": [
      "Consideremos el problema de punto fijo $x=g(x)$, con \n",
      "\n",
      "> $$g(x)=\\frac{1}{2+x}.$$  \n",
      "\n",
      "Probar que existe una \u00fanica soluci\u00f3n en el intervalo $[0,1]$ y que m\u00e9todo de aproximaciones sucesivas $x_{k+1}=g(x_k)$ converge hacia una soluci\u00f3n para cualquier inicializaci\u00f3n, $x_0\\in[0,1]$. Aproximar la soluci\u00f3n con un error menor que $\\varepsilon=10^{-8}$."
     ]
    },
    {
     "cell_type": "markdown",
     "metadata": {},
     "source": [
      "Veamos que $g$ est\u00e1 en las hip\u00f3tesis del teorema de punto fijo en $[0,1]$ (lo que implica la existencia de un \u00fanico punto fijo al que converge el m\u00e9todo de aproximaciones sucesivas).\n",
      "\n",
      "### Hi\u1e55\u00f3tesis 1: $g([0,1])\\subset [0,1]$:\n",
      "\n",
      "* Es f\u00e1cil ver que $g$ es decreciente en $[0,1]$, pues es derivable en todo este intervalo y $g'(x)=\\frac{-1}{(2+x)^2}$\n",
      "* Por lo tanto basta ver que $g(0)\\in [0,1]$ y $g(1)\\in [0,1]$. Pero esto es muy f\u00e1cil: $g(0)= 1/2$, $g(1)=1/3 \\in [0,1]$\n"
     ]
    },
    {
     "cell_type": "markdown",
     "metadata": {},
     "source": [
      "### Hip\u00f3tesis 2: $|g'(x)|<1$ para todo $x\\in [0,1]$\n",
      "\n",
      "Ver que $|g'(x)|<1$ para todo $x\\in [0,+\\infty)$ es f\u00e1cil: Si $x\\ge 0$, tenemos $2+x \\ge 2$ y as\u00ed $|g'(x)|=\\frac{1}{(2+x)^2} \\le \\frac{1}{4} < 1$."
     ]
    },
    {
     "cell_type": "markdown",
     "metadata": {},
     "source": [
      "### Aproximaci\u00f3n del punto fijo"
     ]
    },
    {
     "cell_type": "code",
     "collapsed": false,
     "input": [
      "def g(x): return 1.0/(2+x)\n",
      "\n",
      "x = linspace(0,1)\n",
      "plot(x, g(x), linewidth=3, label=r\"$y=g(x)=\\frac{1}{2+x}$\")\n",
      "plot(x, x, color=\"red\", linewidth=3, label=\"$y=x$\")\n",
      "legend()\n",
      "grid()"
     ],
     "language": "python",
     "metadata": {},
     "outputs": [
      {
       "output_type": "display_data",
       "png": "[encoded data removed]"
      }
     ],
     "prompt_number": 1
    },
    {
     "cell_type": "markdown",
     "metadata": {},
     "source": [
      "Geom\u00e9tricamente, el punto fijo parece estar en torno a $x=0.4$ (intersecci\u00f3n de las curvas $y=x$ e $y=g(x)$) "
     ]
    },
    {
     "cell_type": "code",
     "collapsed": false,
     "input": [
      "def punto_fijo(g, x0, tol=1e-6, max_iters = 100):\n",
      "    \"\"\"C\u00e1lculo de x tal que x=g(x), mediante el m\u00e9todo de aproximaciones sucesivas\n",
      "    a partir del una estimaci\u00f3n inicial x0.\"\"\"\n",
      "    \n",
      "    iter = 0\n",
      "    while iter<max_iters:\n",
      "        x1 = g(x0) # Iteraci\u00f3n de punto fijo\n",
      "        if abs(x1-x0) < tol:\n",
      "            return (x1, iter) # Devolvemos la soluci\u00f3n y el n\u00famero de iteraciones\n",
      "        x0 = x1\n",
      "        iter = iter+1\n",
      "    print \"Error de convergencia\"\n",
      "    \n",
      "(x, iter) = punto_fijo(g, 0.5, 1e-8)\n",
      "print x\n",
      "print iter"
     ],
     "language": "python",
     "metadata": {},
     "outputs": [
      {
       "output_type": "stream",
       "stream": "stdout",
       "text": [
        "0.414213562057\n",
        "10\n"
       ]
      }
     ],
     "prompt_number": 6
    },
    {
     "cell_type": "code",
     "collapsed": false,
     "input": [
      "print g(x)\n",
      "print \"Error de punto fijo:\", abs(x-g(x))"
     ],
     "language": "python",
     "metadata": {},
     "outputs": [
      {
       "output_type": "stream",
       "stream": "stdout",
       "text": [
        "0.414213562427\n",
        "Error de punto fijo: 3.69952901647e-10\n"
       ]
      }
     ],
     "prompt_number": 8
    },
    {
     "cell_type": "code",
     "collapsed": false,
     "input": [
      "def f(x): return 2*exp(x) - (x+0.5)**2\n",
      "def df(x): return 2*exp(x)-2*(x+0.5)\n",
      "\n",
      "x = linspace(-2,-1)\n",
      "plot(x, f(x))\n",
      "grid()"
     ],
     "language": "python",
     "metadata": {},
     "outputs": [
      {
       "metadata": {},
       "output_type": "display_data",
       "png": "[encoded data removed]",
       "text": [
        "<matplotlib.figure.Figure at 0x7d32198>"
       ]
      }
     ],
     "prompt_number": 22
    },
    {
     "cell_type": "code",
     "collapsed": false,
     "input": [
      "def newton(f, df, x0, tol):\n",
      "    \"\"\"Funci\u00f3n de punto fijo\"\"\"\n",
      "    \n",
      "    max_iters = 100\n",
      "    iter = 0\n",
      "    while iter<max_iters:\n",
      "        x1 = x0-f(x0)/df(x0) # Punto fijo\n",
      "        if abs(x1-x0) < tol:\n",
      "            return x1\n",
      "        x0 = x1\n",
      "        iter = iter+1\n",
      "    print \"Error de convergencia\"\n",
      "    \n",
      "x = punto_fijo(g, 0.5, 1e-8)\n",
      "print x"
     ],
     "language": "python",
     "metadata": {},
     "outputs": []
    }
   ],
   "metadata": {}
  }
 ]
}